{
 "cells": [
  {
   "cell_type": "code",
   "execution_count": 1,
   "metadata": {
    "_cell_guid": "b1076dfc-b9ad-4769-8c92-a6c4dae69d19",
    "_uuid": "8f2839f25d086af736a60e9eeb907d3b93b6e0e5",
    "execution": {
     "iopub.execute_input": "2021-11-22T09:34:23.028378Z",
     "iopub.status.busy": "2021-11-22T09:34:23.028036Z",
     "iopub.status.idle": "2021-11-22T09:34:23.034395Z",
     "shell.execute_reply": "2021-11-22T09:34:23.033397Z",
     "shell.execute_reply.started": "2021-11-22T09:34:23.028329Z"
    }
   },
   "outputs": [],
   "source": [
    "import pandas as pd \n",
    "import numpy as np \n",
    "import os \n",
    "import time \n",
    "import regex as re\n",
    "import math"
   ]
  },
  {
   "cell_type": "code",
   "execution_count": 2,
   "metadata": {},
   "outputs": [],
   "source": [
    "from underthesea import word_tokenize"
   ]
  },
  {
   "cell_type": "code",
   "execution_count": 3,
   "metadata": {},
   "outputs": [],
   "source": [
    "import re\n",
    "def remove_emojis(data):\n",
    "    emoj = re.compile(\"[\"\n",
    "        u\"\\U0001F600-\\U0001F64F\" \n",
    "        u\"\\U0001F300-\\U0001F5FF\"  \n",
    "        u\"\\U0001F680-\\U0001F6FF\"  \n",
    "        u\"\\U0001F1E0-\\U0001F1FF\"  \n",
    "        u\"\\U00002500-\\U00002BEF\"  \n",
    "        u\"\\U00002702-\\U000027B0\"\n",
    "        u\"\\U00002702-\\U000027B0\"\n",
    "        u\"\\U000024C2-\\U0001F251\"\n",
    "        u\"\\U0001f926-\\U0001f937\"\n",
    "        u\"\\U00010000-\\U0010ffff\"\n",
    "        u\"\\u2640-\\u2642\" \n",
    "        u\"\\u2600-\\u2B55\"\n",
    "        u\"\\u200d\"\n",
    "        u\"\\u23cf\"\n",
    "        u\"\\u23e9\"\n",
    "        u\"\\u231a\"\n",
    "        u\"\\ufe0f\"  \n",
    "        u\"\\u3030\"\n",
    "                      \"]+\", re.UNICODE)\n",
    "    return re.sub(emoj, '', data)"
   ]
  },
  {
   "cell_type": "code",
   "execution_count": 4,
   "metadata": {},
   "outputs": [],
   "source": [
    "import regex as re\n",
    " \n",
    "uniChars = \"àáảãạâầấẩẫậăằắẳẵặèéẻẽẹêềếểễệđìíỉĩịòóỏõọôồốổỗộơờớởỡợùúủũụưừứửữựỳýỷỹỵÀÁẢÃẠÂẦẤẨẪẬĂẰẮẲẴẶÈÉẺẼẸÊỀẾỂỄỆĐÌÍỈĨỊÒÓỎÕỌÔỒỐỔỖỘƠỜỚỞỠỢÙÚỦŨỤƯỪỨỬỮỰỲÝỶỸỴÂĂĐÔƠƯ\"\n",
    "unsignChars = \"aaaaaaaaaaaaaaaaaeeeeeeeeeeediiiiiooooooooooooooooouuuuuuuuuuuyyyyyAAAAAAAAAAAAAAAAAEEEEEEEEEEEDIIIOOOOOOOOOOOOOOOOOOOUUUUUUUUUUUYYYYYAADOOU\"\n",
    " \n",
    " \n",
    "def loaddicchar():\n",
    "    dic = {}\n",
    "    char1252 = 'à|á|ả|ã|ạ|ầ|ấ|ẩ|ẫ|ậ|ằ|ắ|ẳ|ẵ|ặ|è|é|ẻ|ẽ|ẹ|ề|ế|ể|ễ|ệ|ì|í|ỉ|ĩ|ị|ò|ó|ỏ|õ|ọ|ồ|ố|ổ|ỗ|ộ|ờ|ớ|ở|ỡ|ợ|ù|ú|ủ|ũ|ụ|ừ|ứ|ử|ữ|ự|ỳ|ý|ỷ|ỹ|ỵ|À|Á|Ả|Ã|Ạ|Ầ|Ấ|Ẩ|Ẫ|Ậ|Ằ|Ắ|Ẳ|Ẵ|Ặ|È|É|Ẻ|Ẽ|Ẹ|Ề|Ế|Ể|Ễ|Ệ|Ì|Í|Ỉ|Ĩ|Ị|Ò|Ó|Ỏ|Õ|Ọ|Ồ|Ố|Ổ|Ỗ|Ộ|Ờ|Ớ|Ở|Ỡ|Ợ|Ù|Ú|Ủ|Ũ|Ụ|Ừ|Ứ|Ử|Ữ|Ự|Ỳ|Ý|Ỷ|Ỹ|Ỵ'.split(\n",
    "        '|')\n",
    "    charutf8 = \"à|á|ả|ã|ạ|ầ|ấ|ẩ|ẫ|ậ|ằ|ắ|ẳ|ẵ|ặ|è|é|ẻ|ẽ|ẹ|ề|ế|ể|ễ|ệ|ì|í|ỉ|ĩ|ị|ò|ó|ỏ|õ|ọ|ồ|ố|ổ|ỗ|ộ|ờ|ớ|ở|ỡ|ợ|ù|ú|ủ|ũ|ụ|ừ|ứ|ử|ữ|ự|ỳ|ý|ỷ|ỹ|ỵ|À|Á|Ả|Ã|Ạ|Ầ|Ấ|Ẩ|Ẫ|Ậ|Ằ|Ắ|Ẳ|Ẵ|Ặ|È|É|Ẻ|Ẽ|Ẹ|Ề|Ế|Ể|Ễ|Ệ|Ì|Í|Ỉ|Ĩ|Ị|Ò|Ó|Ỏ|Õ|Ọ|Ồ|Ố|Ổ|Ỗ|Ộ|Ờ|Ớ|Ở|Ỡ|Ợ|Ù|Ú|Ủ|Ũ|Ụ|Ừ|Ứ|Ử|Ữ|Ự|Ỳ|Ý|Ỷ|Ỹ|Ỵ\".split(\n",
    "        '|')\n",
    "    for i in range(len(char1252)):\n",
    "        dic[char1252[i]] = charutf8[i]\n",
    "    return dic\n",
    " \n",
    " \n",
    "dicchar = loaddicchar()\n",
    " \n",
    "# Đưa toàn bộ dữ liệu qua hàm này để chuẩn hóa lại\n",
    "def covert_unicode(txt):\n",
    "    return re.sub(\n",
    "        r'à|á|ả|ã|ạ|ầ|ấ|ẩ|ẫ|ậ|ằ|ắ|ẳ|ẵ|ặ|è|é|ẻ|ẽ|ẹ|ề|ế|ể|ễ|ệ|ì|í|ỉ|ĩ|ị|ò|ó|ỏ|õ|ọ|ồ|ố|ổ|ỗ|ộ|ờ|ớ|ở|ỡ|ợ|ù|ú|ủ|ũ|ụ|ừ|ứ|ử|ữ|ự|ỳ|ý|ỷ|ỹ|ỵ|À|Á|Ả|Ã|Ạ|Ầ|Ấ|Ẩ|Ẫ|Ậ|Ằ|Ắ|Ẳ|Ẵ|Ặ|È|É|Ẻ|Ẽ|Ẹ|Ề|Ế|Ể|Ễ|Ệ|Ì|Í|Ỉ|Ĩ|Ị|Ò|Ó|Ỏ|Õ|Ọ|Ồ|Ố|Ổ|Ỗ|Ộ|Ờ|Ớ|Ở|Ỡ|Ợ|Ù|Ú|Ủ|Ũ|Ụ|Ừ|Ứ|Ử|Ữ|Ự|Ỳ|Ý|Ỷ|Ỹ|Ỵ',\n",
    "        lambda x: dicchar[x.group()], txt)\n",
    "\n",
    "\n",
    "def remove_html(txt):\n",
    "    return re.sub(r'<[^>]*>', '', txt)"
   ]
  },
  {
   "cell_type": "code",
   "execution_count": 9,
   "metadata": {},
   "outputs": [],
   "source": [
    " \n",
    "uniChars = \"àáảãạâầấẩẫậăằắẳẵặèéẻẽẹêềếểễệđìíỉĩịòóỏõọôồốổỗộơờớởỡợùúủũụưừứửữựỳýỷỹỵÀÁẢÃẠÂẦẤẨẪẬĂẰẮẲẴẶÈÉẺẼẸÊỀẾỂỄỆĐÌÍỈĨỊÒÓỎÕỌÔỒỐỔỖỘƠỜỚỞỠỢÙÚỦŨỤƯỪỨỬỮỰỲÝỶỸỴÂĂĐÔƠƯ\"\n",
    "unsignChars = \"aaaaaaaaaaaaaaaaaeeeeeeeeeeediiiiiooooooooooooooooouuuuuuuuuuuyyyyyAAAAAAAAAAAAAAAAAEEEEEEEEEEEDIIIOOOOOOOOOOOOOOOOOOOUUUUUUUUUUUYYYYYAADOOU\"\n",
    " \n",
    "def loaddicchar():\n",
    "    dic = {}\n",
    "    char1252 = 'à|á|ả|ã|ạ|ầ|ấ|ẩ|ẫ|ậ|ằ|ắ|ẳ|ẵ|ặ|è|é|ẻ|ẽ|ẹ|ề|ế|ể|ễ|ệ|ì|í|ỉ|ĩ|ị|ò|ó|ỏ|õ|ọ|ồ|ố|ổ|ỗ|ộ|ờ|ớ|ở|ỡ|ợ|ù|ú|ủ|ũ|ụ|ừ|ứ|ử|ữ|ự|ỳ|ý|ỷ|ỹ|ỵ|À|Á|Ả|Ã|Ạ|Ầ|Ấ|Ẩ|Ẫ|Ậ|Ằ|Ắ|Ẳ|Ẵ|Ặ|È|É|Ẻ|Ẽ|Ẹ|Ề|Ế|Ể|Ễ|Ệ|Ì|Í|Ỉ|Ĩ|Ị|Ò|Ó|Ỏ|Õ|Ọ|Ồ|Ố|Ổ|Ỗ|Ộ|Ờ|Ớ|Ở|Ỡ|Ợ|Ù|Ú|Ủ|Ũ|Ụ|Ừ|Ứ|Ử|Ữ|Ự|Ỳ|Ý|Ỷ|Ỹ|Ỵ'.split(\n",
    "        '|')\n",
    "    charutf8 = \"à|á|ả|ã|ạ|ầ|ấ|ẩ|ẫ|ậ|ằ|ắ|ẳ|ẵ|ặ|è|é|ẻ|ẽ|ẹ|ề|ế|ể|ễ|ệ|ì|í|ỉ|ĩ|ị|ò|ó|ỏ|õ|ọ|ồ|ố|ổ|ỗ|ộ|ờ|ớ|ở|ỡ|ợ|ù|ú|ủ|ũ|ụ|ừ|ứ|ử|ữ|ự|ỳ|ý|ỷ|ỹ|ỵ|À|Á|Ả|Ã|Ạ|Ầ|Ấ|Ẩ|Ẫ|Ậ|Ằ|Ắ|Ẳ|Ẵ|Ặ|È|É|Ẻ|Ẽ|Ẹ|Ề|Ế|Ể|Ễ|Ệ|Ì|Í|Ỉ|Ĩ|Ị|Ò|Ó|Ỏ|Õ|Ọ|Ồ|Ố|Ổ|Ỗ|Ộ|Ờ|Ớ|Ở|Ỡ|Ợ|Ù|Ú|Ủ|Ũ|Ụ|Ừ|Ứ|Ử|Ữ|Ự|Ỳ|Ý|Ỷ|Ỹ|Ỵ\".split(\n",
    "        '|')\n",
    "    for i in range(len(char1252)):\n",
    "        dic[char1252[i]] = charutf8[i]\n",
    "    return dic\n",
    "dicchar = loaddicchar()\n",
    "\n",
    "# Hàm chuyển Unicode dựng sẵn về Unicde tổ hợp (phổ biến hơn)\n",
    "def convert_unicode(txt):\n",
    "    return re.sub(\n",
    "        r'à|á|ả|ã|ạ|ầ|ấ|ẩ|ẫ|ậ|ằ|ắ|ẳ|ẵ|ặ|è|é|ẻ|ẽ|ẹ|ề|ế|ể|ễ|ệ|ì|í|ỉ|ĩ|ị|ò|ó|ỏ|õ|ọ|ồ|ố|ổ|ỗ|ộ|ờ|ớ|ở|ỡ|ợ|ù|ú|ủ|ũ|ụ|ừ|ứ|ử|ữ|ự|ỳ|ý|ỷ|ỹ|ỵ|À|Á|Ả|Ã|Ạ|Ầ|Ấ|Ẩ|Ẫ|Ậ|Ằ|Ắ|Ẳ|Ẵ|Ặ|È|É|Ẻ|Ẽ|Ẹ|Ề|Ế|Ể|Ễ|Ệ|Ì|Í|Ỉ|Ĩ|Ị|Ò|Ó|Ỏ|Õ|Ọ|Ồ|Ố|Ổ|Ỗ|Ộ|Ờ|Ớ|Ở|Ỡ|Ợ|Ù|Ú|Ủ|Ũ|Ụ|Ừ|Ứ|Ử|Ữ|Ự|Ỳ|Ý|Ỷ|Ỹ|Ỵ',\n",
    "        lambda x: dicchar[x.group()], txt)\n",
    "\n",
    "bang_nguyen_am = [['a', 'à', 'á', 'ả', 'ã', 'ạ', 'a'],\n",
    "                  ['ă', 'ằ', 'ắ', 'ẳ', 'ẵ', 'ặ', 'aw'],\n",
    "                  ['â', 'ầ', 'ấ', 'ẩ', 'ẫ', 'ậ', 'aa'],\n",
    "                  ['e', 'è', 'é', 'ẻ', 'ẽ', 'ẹ', 'e'],\n",
    "                  ['ê', 'ề', 'ế', 'ể', 'ễ', 'ệ', 'ee'],\n",
    "                  ['i', 'ì', 'í', 'ỉ', 'ĩ', 'ị', 'i'],\n",
    "                  ['o', 'ò', 'ó', 'ỏ', 'õ', 'ọ', 'o'],\n",
    "                  ['ô', 'ồ', 'ố', 'ổ', 'ỗ', 'ộ', 'oo'],\n",
    "                  ['ơ', 'ờ', 'ớ', 'ở', 'ỡ', 'ợ', 'ow'],\n",
    "                  ['u', 'ù', 'ú', 'ủ', 'ũ', 'ụ', 'u'],\n",
    "                  ['ư', 'ừ', 'ứ', 'ử', 'ữ', 'ự', 'uw'],\n",
    "                  ['y', 'ỳ', 'ý', 'ỷ', 'ỹ', 'ỵ', 'y']]\n",
    "\n",
    "\n",
    "nguyen_am_to_ids = {}\n",
    "\n",
    "for i in range(len(bang_nguyen_am)):\n",
    "    for j in range(len(bang_nguyen_am[i]) - 1):\n",
    "        nguyen_am_to_ids[bang_nguyen_am[i][j]] = (i, j)\n",
    "\n",
    "def chuan_hoa_dau_tu_tieng_viet(word):\n",
    "    if not is_valid_vietnam_word(word):\n",
    "        return word\n",
    "\n",
    "    chars = list(word)\n",
    "    dau_cau = 0\n",
    "    nguyen_am_index = []\n",
    "    qu_or_gi = False\n",
    "    for index, char in enumerate(chars):\n",
    "        \n",
    "        x, y = nguyen_am_to_ids.get(char, (-1, -1))\n",
    "        if x == -1:\n",
    "            continue\n",
    "        elif x == 9:  # check qu\n",
    "            if index != 0 and chars[index - 1] == 'q':\n",
    "                chars[index] = 'u'\n",
    "                qu_or_gi = True\n",
    "        elif x == 5:  # check gi\n",
    "            if index != 0 and chars[index - 1] == 'g':\n",
    "                chars[index] = 'i'\n",
    "                qu_or_gi = True\n",
    "        if y != 0:\n",
    "            dau_cau = y\n",
    "            chars[index] = bang_nguyen_am[x][0]\n",
    "        if not qu_or_gi or index != 1:\n",
    "            nguyen_am_index.append(index)\n",
    "    if len(nguyen_am_index) < 2:\n",
    "        if qu_or_gi:\n",
    "            if len(chars) == 2:\n",
    "                x, y = nguyen_am_to_ids.get(chars[1])\n",
    "                chars[1] = bang_nguyen_am[x][dau_cau]\n",
    "            else:\n",
    "                x, y = nguyen_am_to_ids.get(chars[2], (-1, -1))\n",
    "                if x != -1:\n",
    "                    chars[2] = bang_nguyen_am[x][dau_cau]\n",
    "                else:\n",
    "                    chars[1] = bang_nguyen_am[5][dau_cau] if chars[1] == 'i' else bang_nguyen_am[9][dau_cau]\n",
    "            return ''.join(chars)\n",
    "        return word\n",
    "\n",
    "    for index in nguyen_am_index:\n",
    "        x, y = nguyen_am_to_ids[chars[index]]\n",
    "        if x == 4 or x == 8:  # ê, ơ\n",
    "            chars[index] = bang_nguyen_am[x][dau_cau]\n",
    "            # for index2 in nguyen_am_index:\n",
    "            #     if index2 != index:\n",
    "            #         x, y = nguyen_am_to_ids[chars[index]]\n",
    "            #         chars[index2] = bang_nguyen_am[x][0]\n",
    "            return ''.join(chars)\n",
    "\n",
    "    if len(nguyen_am_index) == 2:\n",
    "        if nguyen_am_index[-1] == len(chars) - 1:\n",
    "            x, y = nguyen_am_to_ids[chars[nguyen_am_index[0]]]\n",
    "            chars[nguyen_am_index[0]] = bang_nguyen_am[x][dau_cau]\n",
    "            # x, y = nguyen_am_to_ids[chars[nguyen_am_index[1]]]\n",
    "            # chars[nguyen_am_index[1]] = bang_nguyen_am[x][0]\n",
    "        else:\n",
    "            # x, y = nguyen_am_to_ids[chars[nguyen_am_index[0]]]\n",
    "            # chars[nguyen_am_index[0]] = bang_nguyen_am[x][0]\n",
    "            x, y = nguyen_am_to_ids[chars[nguyen_am_index[1]]]\n",
    "            chars[nguyen_am_index[1]] = bang_nguyen_am[x][dau_cau]\n",
    "    else:\n",
    "        # x, y = nguyen_am_to_ids[chars[nguyen_am_index[0]]]\n",
    "        # chars[nguyen_am_index[0]] = bang_nguyen_am[x][0]\n",
    "        x, y = nguyen_am_to_ids[chars[nguyen_am_index[1]]]\n",
    "        chars[nguyen_am_index[1]] = bang_nguyen_am[x][dau_cau]\n",
    "        # x, y = nguyen_am_to_ids[chars[nguyen_am_index[2]]]\n",
    "        # chars[nguyen_am_index[2]] = bang_nguyen_am[x][0]\n",
    "    return ''.join(chars)\n",
    "\n",
    "\n",
    "def is_valid_vietnam_word(word):\n",
    "    chars = list(word)\n",
    "    nguyen_am_index = -1\n",
    "    for index, char in enumerate(chars):\n",
    "        x, y = nguyen_am_to_ids.get(char, (-1, -1))\n",
    "        if x != -1:\n",
    "            if nguyen_am_index == -1:\n",
    "                nguyen_am_index = index\n",
    "            else:\n",
    "                if index - nguyen_am_index != 1:\n",
    "                    return False\n",
    "                nguyen_am_index = index\n",
    "    return True\n",
    "\n",
    "\n",
    "def lowercase_remove_noise_character(sentence):\n",
    "    \"\"\"\n",
    "        Chuyển câu tiếng việt về chuẩn gõ dấu kiểu cũ.\n",
    "        :param sentence:\n",
    "        :return:\n",
    "        \"\"\"\n",
    "    sentence = sentence.lower()\n",
    "    words = sentence.split()\n",
    "    for index, word in enumerate(words):\n",
    "        cw = re.sub(r'(^\\p{P}*)([p{L}.]*\\p{L}+)(\\p{P}*$)', r'\\1/\\2/\\3', word).split('/')\n",
    "        words[index] = ''.join(cw)\n",
    "    return ' '.join(words)\n",
    "\n",
    "def remove_html(txt):\n",
    "    return re.sub(r'<[^>]*>', '', txt)"
   ]
  },
  {
   "cell_type": "code",
   "execution_count": 51,
   "metadata": {
    "execution": {
     "iopub.execute_input": "2021-11-22T10:24:03.319022Z",
     "iopub.status.busy": "2021-11-22T10:24:03.318567Z",
     "iopub.status.idle": "2021-11-22T10:24:03.344871Z",
     "shell.execute_reply": "2021-11-22T10:24:03.343946Z",
     "shell.execute_reply.started": "2021-11-22T10:24:03.318905Z"
    }
   },
   "outputs": [
    {
     "data": {
      "text/html": [
       "<div>\n",
       "<style scoped>\n",
       "    .dataframe tbody tr th:only-of-type {\n",
       "        vertical-align: middle;\n",
       "    }\n",
       "\n",
       "    .dataframe tbody tr th {\n",
       "        vertical-align: top;\n",
       "    }\n",
       "\n",
       "    .dataframe thead th {\n",
       "        text-align: right;\n",
       "    }\n",
       "</style>\n",
       "<table border=\"1\" class=\"dataframe\">\n",
       "  <thead>\n",
       "    <tr style=\"text-align: right;\">\n",
       "      <th></th>\n",
       "      <th>Id</th>\n",
       "      <th>Review</th>\n",
       "      <th>Rating</th>\n",
       "      <th>Label</th>\n",
       "    </tr>\n",
       "  </thead>\n",
       "  <tbody>\n",
       "    <tr>\n",
       "      <th>0</th>\n",
       "      <td>4000</td>\n",
       "      <td>Cám ơn Tiki đa giao hàng liên quận trong đợt c...</td>\n",
       "      <td>5</td>\n",
       "      <td>-2.0</td>\n",
       "    </tr>\n",
       "    <tr>\n",
       "      <th>1</th>\n",
       "      <td>4001</td>\n",
       "      <td>Sữa đậu nành vị tàu hũ gừng của Fami rất ngon ...</td>\n",
       "      <td>5</td>\n",
       "      <td>1.0</td>\n",
       "    </tr>\n",
       "    <tr>\n",
       "      <th>2</th>\n",
       "      <td>4002</td>\n",
       "      <td>Tiki bán hàng giá giảm nhìu, mình sử dụng phươ...</td>\n",
       "      <td>5</td>\n",
       "      <td>-2.0</td>\n",
       "    </tr>\n",
       "    <tr>\n",
       "      <th>3</th>\n",
       "      <td>4003</td>\n",
       "      <td>Quá thất vọng Tiki trading giao 2 thùng sữa cũ...</td>\n",
       "      <td>1</td>\n",
       "      <td>-1.0</td>\n",
       "    </tr>\n",
       "    <tr>\n",
       "      <th>4</th>\n",
       "      <td>4004</td>\n",
       "      <td>Mình đã mua sp tiki va giá sale...  rẽ nhìu so...</td>\n",
       "      <td>5</td>\n",
       "      <td>0.0</td>\n",
       "    </tr>\n",
       "    <tr>\n",
       "      <th>...</th>\n",
       "      <td>...</td>\n",
       "      <td>...</td>\n",
       "      <td>...</td>\n",
       "      <td>...</td>\n",
       "    </tr>\n",
       "    <tr>\n",
       "      <th>3996</th>\n",
       "      <td>7996</td>\n",
       "      <td>Dịch vụ chăm sóc khách hàng của Tiki vốn đã nổ...</td>\n",
       "      <td>3</td>\n",
       "      <td>0.0</td>\n",
       "    </tr>\n",
       "    <tr>\n",
       "      <th>3997</th>\n",
       "      <td>7997</td>\n",
       "      <td>shop cho hơi ít vít vặn, tiết kiệm những thứ ...</td>\n",
       "      <td>4</td>\n",
       "      <td>-1.0</td>\n",
       "    </tr>\n",
       "    <tr>\n",
       "      <th>3998</th>\n",
       "      <td>7998</td>\n",
       "      <td>Mình mua rất nhiều SP của Tiki:  Từ những Sp n...</td>\n",
       "      <td>1</td>\n",
       "      <td>0.0</td>\n",
       "    </tr>\n",
       "    <tr>\n",
       "      <th>3999</th>\n",
       "      <td>7999</td>\n",
       "      <td>Tiki xem lại nhà cung cấp này dùm. Quảng cáo 1...</td>\n",
       "      <td>1</td>\n",
       "      <td>0.0</td>\n",
       "    </tr>\n",
       "    <tr>\n",
       "      <th>4000</th>\n",
       "      <td>8000</td>\n",
       "      <td>mình trồng rất nhiều rau và củ, mình mua cải k...</td>\n",
       "      <td>3</td>\n",
       "      <td>0.0</td>\n",
       "    </tr>\n",
       "  </tbody>\n",
       "</table>\n",
       "<p>3952 rows × 4 columns</p>\n",
       "</div>"
      ],
      "text/plain": [
       "        Id                                             Review  Rating  Label\n",
       "0     4000  Cám ơn Tiki đa giao hàng liên quận trong đợt c...       5   -2.0\n",
       "1     4001  Sữa đậu nành vị tàu hũ gừng của Fami rất ngon ...       5    1.0\n",
       "2     4002  Tiki bán hàng giá giảm nhìu, mình sử dụng phươ...       5   -2.0\n",
       "3     4003  Quá thất vọng Tiki trading giao 2 thùng sữa cũ...       1   -1.0\n",
       "4     4004  Mình đã mua sp tiki va giá sale...  rẽ nhìu so...       5    0.0\n",
       "...    ...                                                ...     ...    ...\n",
       "3996  7996  Dịch vụ chăm sóc khách hàng của Tiki vốn đã nổ...       3    0.0\n",
       "3997  7997  shop cho hơi ít vít vặn, tiết kiệm những thứ ...       4   -1.0\n",
       "3998  7998  Mình mua rất nhiều SP của Tiki:  Từ những Sp n...       1    0.0\n",
       "3999  7999  Tiki xem lại nhà cung cấp này dùm. Quảng cáo 1...       1    0.0\n",
       "4000  8000  mình trồng rất nhiều rau và củ, mình mua cải k...       3    0.0\n",
       "\n",
       "[3952 rows x 4 columns]"
      ]
     },
     "execution_count": 51,
     "metadata": {},
     "output_type": "execute_result"
    }
   ],
   "source": [
    "path_dataset1 = \"/home/haiduong/Documents/DataScience-SentimentAnalysis/Data/Rawdata_Tri2.xlsx\"\n",
    "df1 = pd.read_excel(path_dataset1, sheet_name = 'Comment_Tiki_Data')\n",
    "df1.dropna()"
   ]
  },
  {
   "cell_type": "code",
   "execution_count": 52,
   "metadata": {},
   "outputs": [
    {
     "data": {
      "text/html": [
       "<div>\n",
       "<style scoped>\n",
       "    .dataframe tbody tr th:only-of-type {\n",
       "        vertical-align: middle;\n",
       "    }\n",
       "\n",
       "    .dataframe tbody tr th {\n",
       "        vertical-align: top;\n",
       "    }\n",
       "\n",
       "    .dataframe thead th {\n",
       "        text-align: right;\n",
       "    }\n",
       "</style>\n",
       "<table border=\"1\" class=\"dataframe\">\n",
       "  <thead>\n",
       "    <tr style=\"text-align: right;\">\n",
       "      <th></th>\n",
       "      <th>Id</th>\n",
       "      <th>Review</th>\n",
       "      <th>Rating</th>\n",
       "      <th>Label</th>\n",
       "    </tr>\n",
       "  </thead>\n",
       "  <tbody>\n",
       "    <tr>\n",
       "      <th>0</th>\n",
       "      <td>4000</td>\n",
       "      <td>Cám ơn Tiki đa giao hàng liên quận trong đợt c...</td>\n",
       "      <td>5</td>\n",
       "      <td>-2.0</td>\n",
       "    </tr>\n",
       "    <tr>\n",
       "      <th>1</th>\n",
       "      <td>4001</td>\n",
       "      <td>Sữa đậu nành vị tàu hũ gừng của Fami rất ngon ...</td>\n",
       "      <td>5</td>\n",
       "      <td>1.0</td>\n",
       "    </tr>\n",
       "    <tr>\n",
       "      <th>2</th>\n",
       "      <td>4002</td>\n",
       "      <td>Tiki bán hàng giá giảm nhìu, mình sử dụng phươ...</td>\n",
       "      <td>5</td>\n",
       "      <td>-2.0</td>\n",
       "    </tr>\n",
       "    <tr>\n",
       "      <th>3</th>\n",
       "      <td>4003</td>\n",
       "      <td>Quá thất vọng Tiki trading giao 2 thùng sữa cũ...</td>\n",
       "      <td>1</td>\n",
       "      <td>-1.0</td>\n",
       "    </tr>\n",
       "    <tr>\n",
       "      <th>4</th>\n",
       "      <td>4004</td>\n",
       "      <td>Mình đã mua sp tiki va giá sale...  rẽ nhìu so...</td>\n",
       "      <td>5</td>\n",
       "      <td>0.0</td>\n",
       "    </tr>\n",
       "  </tbody>\n",
       "</table>\n",
       "</div>"
      ],
      "text/plain": [
       "     Id                                             Review  Rating  Label\n",
       "0  4000  Cám ơn Tiki đa giao hàng liên quận trong đợt c...       5   -2.0\n",
       "1  4001  Sữa đậu nành vị tàu hũ gừng của Fami rất ngon ...       5    1.0\n",
       "2  4002  Tiki bán hàng giá giảm nhìu, mình sử dụng phươ...       5   -2.0\n",
       "3  4003  Quá thất vọng Tiki trading giao 2 thùng sữa cũ...       1   -1.0\n",
       "4  4004  Mình đã mua sp tiki va giá sale...  rẽ nhìu so...       5    0.0"
      ]
     },
     "execution_count": 52,
     "metadata": {},
     "output_type": "execute_result"
    }
   ],
   "source": [
    "df1.head()"
   ]
  },
  {
   "cell_type": "code",
   "execution_count": 53,
   "metadata": {},
   "outputs": [
    {
     "data": {
      "text/html": [
       "<div>\n",
       "<style scoped>\n",
       "    .dataframe tbody tr th:only-of-type {\n",
       "        vertical-align: middle;\n",
       "    }\n",
       "\n",
       "    .dataframe tbody tr th {\n",
       "        vertical-align: top;\n",
       "    }\n",
       "\n",
       "    .dataframe thead th {\n",
       "        text-align: right;\n",
       "    }\n",
       "</style>\n",
       "<table border=\"1\" class=\"dataframe\">\n",
       "  <thead>\n",
       "    <tr style=\"text-align: right;\">\n",
       "      <th></th>\n",
       "      <th>Id</th>\n",
       "      <th>Review</th>\n",
       "      <th>Rating</th>\n",
       "      <th>Label</th>\n",
       "      <th>Unnamed: 4</th>\n",
       "    </tr>\n",
       "  </thead>\n",
       "  <tbody>\n",
       "    <tr>\n",
       "      <th>0</th>\n",
       "      <td>1</td>\n",
       "      <td>Thịt heo rất tươi ngon và sạch. Mình mua thử l...</td>\n",
       "      <td>5</td>\n",
       "      <td>NaN</td>\n",
       "      <td>NaN</td>\n",
       "    </tr>\n",
       "    <tr>\n",
       "      <th>1</th>\n",
       "      <td>2</td>\n",
       "      <td>Tuy shop Giao trễ nhưng tình hình dịch bệnh, v...</td>\n",
       "      <td>5</td>\n",
       "      <td>NaN</td>\n",
       "      <td>NaN</td>\n",
       "    </tr>\n",
       "    <tr>\n",
       "      <th>2</th>\n",
       "      <td>3</td>\n",
       "      <td>Thịt mỡ nhiều quá mn ạ huhu. Mình nấu c...</td>\n",
       "      <td>5</td>\n",
       "      <td>NaN</td>\n",
       "      <td>NaN</td>\n",
       "    </tr>\n",
       "    <tr>\n",
       "      <th>3</th>\n",
       "      <td>4</td>\n",
       "      <td>Sản phẩm không nhãn mác thương hiệu, không hạn...</td>\n",
       "      <td>2</td>\n",
       "      <td>NaN</td>\n",
       "      <td>NaN</td>\n",
       "    </tr>\n",
       "    <tr>\n",
       "      <th>4</th>\n",
       "      <td>5</td>\n",
       "      <td>Mình thấy shipper bên shop mỗi lần giao rất nh...</td>\n",
       "      <td>4</td>\n",
       "      <td>NaN</td>\n",
       "      <td>NaN</td>\n",
       "    </tr>\n",
       "  </tbody>\n",
       "</table>\n",
       "</div>"
      ],
      "text/plain": [
       "   Id                                             Review  Rating Label  \\\n",
       "0   1  Thịt heo rất tươi ngon và sạch. Mình mua thử l...       5   NaN   \n",
       "1   2  Tuy shop Giao trễ nhưng tình hình dịch bệnh, v...       5   NaN   \n",
       "2   3  Thịt mỡ nhiều quá mn ạ huhu. Mình nấu c...       5   NaN   \n",
       "3   4  Sản phẩm không nhãn mác thương hiệu, không hạn...       2   NaN   \n",
       "4   5  Mình thấy shipper bên shop mỗi lần giao rất nh...       4   NaN   \n",
       "\n",
       "  Unnamed: 4  \n",
       "0        NaN  \n",
       "1        NaN  \n",
       "2        NaN  \n",
       "3        NaN  \n",
       "4        NaN  "
      ]
     },
     "execution_count": 53,
     "metadata": {},
     "output_type": "execute_result"
    }
   ],
   "source": [
    "path_dataset2 = \"/home/haiduong/Documents/DataScience-SentimentAnalysis/Data/10k_14k.xlsx\"\n",
    "df2 = pd.read_excel(path_dataset2, sheet_name = 'Comment_Tiki_Data')\n",
    "df2.dropna()\n",
    "df2.head()"
   ]
  },
  {
   "cell_type": "code",
   "execution_count": 54,
   "metadata": {},
   "outputs": [
    {
     "data": {
      "text/html": [
       "<div>\n",
       "<style scoped>\n",
       "    .dataframe tbody tr th:only-of-type {\n",
       "        vertical-align: middle;\n",
       "    }\n",
       "\n",
       "    .dataframe tbody tr th {\n",
       "        vertical-align: top;\n",
       "    }\n",
       "\n",
       "    .dataframe thead th {\n",
       "        text-align: right;\n",
       "    }\n",
       "</style>\n",
       "<table border=\"1\" class=\"dataframe\">\n",
       "  <thead>\n",
       "    <tr style=\"text-align: right;\">\n",
       "      <th></th>\n",
       "      <th>Id</th>\n",
       "      <th>Review</th>\n",
       "      <th>Rating</th>\n",
       "      <th>Label</th>\n",
       "    </tr>\n",
       "  </thead>\n",
       "  <tbody>\n",
       "    <tr>\n",
       "      <th>0</th>\n",
       "      <td>1</td>\n",
       "      <td>Thịt heo rất tươi ngon và sạch. Mình mua thử l...</td>\n",
       "      <td>5</td>\n",
       "      <td>NaN</td>\n",
       "    </tr>\n",
       "    <tr>\n",
       "      <th>1</th>\n",
       "      <td>2</td>\n",
       "      <td>Tuy shop Giao trễ nhưng tình hình dịch bệnh, v...</td>\n",
       "      <td>5</td>\n",
       "      <td>NaN</td>\n",
       "    </tr>\n",
       "    <tr>\n",
       "      <th>2</th>\n",
       "      <td>3</td>\n",
       "      <td>Thịt mỡ nhiều quá mn ạ huhu. Mình nấu c...</td>\n",
       "      <td>5</td>\n",
       "      <td>NaN</td>\n",
       "    </tr>\n",
       "    <tr>\n",
       "      <th>3</th>\n",
       "      <td>4</td>\n",
       "      <td>Sản phẩm không nhãn mác thương hiệu, không hạn...</td>\n",
       "      <td>2</td>\n",
       "      <td>NaN</td>\n",
       "    </tr>\n",
       "    <tr>\n",
       "      <th>4</th>\n",
       "      <td>5</td>\n",
       "      <td>Mình thấy shipper bên shop mỗi lần giao rất nh...</td>\n",
       "      <td>4</td>\n",
       "      <td>NaN</td>\n",
       "    </tr>\n",
       "  </tbody>\n",
       "</table>\n",
       "</div>"
      ],
      "text/plain": [
       "   Id                                             Review  Rating  Label\n",
       "0   1  Thịt heo rất tươi ngon và sạch. Mình mua thử l...       5    NaN\n",
       "1   2  Tuy shop Giao trễ nhưng tình hình dịch bệnh, v...       5    NaN\n",
       "2   3  Thịt mỡ nhiều quá mn ạ huhu. Mình nấu c...       5    NaN\n",
       "3   4  Sản phẩm không nhãn mác thương hiệu, không hạn...       2    NaN\n",
       "4   5  Mình thấy shipper bên shop mỗi lần giao rất nh...       4    NaN"
      ]
     },
     "execution_count": 54,
     "metadata": {},
     "output_type": "execute_result"
    }
   ],
   "source": [
    "path_dataset3 = \"/home/haiduong/Documents/DataScience-SentimentAnalysis/Data/8k-10k14k-16k.xlsx\"\n",
    "df3 = pd.read_excel(path_dataset3, sheet_name = 'Comment_Tiki_Data')\n",
    "df3.dropna()\n",
    "df3.head()"
   ]
  },
  {
   "cell_type": "code",
   "execution_count": 55,
   "metadata": {},
   "outputs": [
    {
     "data": {
      "text/html": [
       "<div>\n",
       "<style scoped>\n",
       "    .dataframe tbody tr th:only-of-type {\n",
       "        vertical-align: middle;\n",
       "    }\n",
       "\n",
       "    .dataframe tbody tr th {\n",
       "        vertical-align: top;\n",
       "    }\n",
       "\n",
       "    .dataframe thead th {\n",
       "        text-align: right;\n",
       "    }\n",
       "</style>\n",
       "<table border=\"1\" class=\"dataframe\">\n",
       "  <thead>\n",
       "    <tr style=\"text-align: right;\">\n",
       "      <th></th>\n",
       "      <th>Id</th>\n",
       "      <th>Review</th>\n",
       "      <th>Rating</th>\n",
       "      <th>Label</th>\n",
       "    </tr>\n",
       "  </thead>\n",
       "  <tbody>\n",
       "    <tr>\n",
       "      <th>0</th>\n",
       "      <td>1</td>\n",
       "      <td>Thịt heo rất tươi ngon và sạch. Mình mua thử l...</td>\n",
       "      <td>5</td>\n",
       "      <td>1.0</td>\n",
       "    </tr>\n",
       "    <tr>\n",
       "      <th>1</th>\n",
       "      <td>2</td>\n",
       "      <td>Tuy shop Giao trễ nhưng tình hình dịch bệnh, v...</td>\n",
       "      <td>5</td>\n",
       "      <td>1.0</td>\n",
       "    </tr>\n",
       "    <tr>\n",
       "      <th>2</th>\n",
       "      <td>3</td>\n",
       "      <td>Thịt mỡ nhiều quá mn ạ huhu. Mình nấu c...</td>\n",
       "      <td>5</td>\n",
       "      <td>NaN</td>\n",
       "    </tr>\n",
       "    <tr>\n",
       "      <th>3</th>\n",
       "      <td>4</td>\n",
       "      <td>Sản phẩm không nhãn mác thương hiệu, không hạn...</td>\n",
       "      <td>2</td>\n",
       "      <td>0.0</td>\n",
       "    </tr>\n",
       "    <tr>\n",
       "      <th>4</th>\n",
       "      <td>5</td>\n",
       "      <td>Mình thấy shipper bên shop mỗi lần giao rất nh...</td>\n",
       "      <td>4</td>\n",
       "      <td>0.0</td>\n",
       "    </tr>\n",
       "  </tbody>\n",
       "</table>\n",
       "</div>"
      ],
      "text/plain": [
       "   Id                                             Review  Rating  Label\n",
       "0   1  Thịt heo rất tươi ngon và sạch. Mình mua thử l...       5    1.0\n",
       "1   2  Tuy shop Giao trễ nhưng tình hình dịch bệnh, v...       5    1.0\n",
       "2   3  Thịt mỡ nhiều quá mn ạ huhu. Mình nấu c...       5    NaN\n",
       "3   4  Sản phẩm không nhãn mác thương hiệu, không hạn...       2    0.0\n",
       "4   5  Mình thấy shipper bên shop mỗi lần giao rất nh...       4    0.0"
      ]
     },
     "execution_count": 55,
     "metadata": {},
     "output_type": "execute_result"
    }
   ],
   "source": [
    "path_dataset4 = \"/home/haiduong/Documents/DataScience-SentimentAnalysis/Data/Rawdata-0-3000.xlsx\"\n",
    "df4 = pd.read_excel(path_dataset4, sheet_name = 'Comment_Tiki_Data')\n",
    "df4.dropna()\n",
    "df4.head()"
   ]
  },
  {
   "cell_type": "code",
   "execution_count": 56,
   "metadata": {},
   "outputs": [],
   "source": [
    "#0: negative \n",
    "#1: positive\n",
    "l_review = []\n",
    "l_label = []\n"
   ]
  },
  {
   "cell_type": "code",
   "execution_count": 57,
   "metadata": {},
   "outputs": [],
   "source": [
    "for index, row in df1.iterrows():\n",
    "#     if int(row[\"Id\"]) == 5000:\n",
    "#         break\n",
    "    review = row[\"Review\"]\n",
    "    label = row[\"Label\"]\n",
    "    if math.isnan(label):\n",
    "#         print(index)\n",
    "        continue\n",
    "    label = int(label)\n",
    "    if label != 0 and label != 1:\n",
    "        continue\n",
    "    l_review.append(review)\n",
    "    l_label.append(label)\n",
    "    \n",
    "        \n",
    "#     if label == None\n",
    "#     if not label:\n",
    "#         print(label)"
   ]
  },
  {
   "cell_type": "code",
   "execution_count": 58,
   "metadata": {},
   "outputs": [
    {
     "name": "stdout",
     "output_type": "stream",
     "text": [
      "2767\n"
     ]
    }
   ],
   "source": [
    "print(len(l_label))"
   ]
  },
  {
   "cell_type": "code",
   "execution_count": 59,
   "metadata": {},
   "outputs": [],
   "source": [
    "for index, row in df2.iterrows():\n",
    "#     if int(row[\"Id\"]) > 2002:\n",
    "#         break\n",
    "    review = row[\"Review\"]\n",
    "    label = row[\"Label\"]\n",
    "#     if math.isnan(label):\n",
    "# #         print(index)\n",
    "#         continue\n",
    "    if label == \"negative\":\n",
    "        label = 0\n",
    "    elif label == \"positive\":\n",
    "        label = 1\n",
    "    else:\n",
    "#         print(label, index)\n",
    "        continue\n",
    "    label = int(label)\n",
    "    if label != 0 and label != 1:\n",
    "        continue\n",
    "    l_review.append(review)\n",
    "    l_label.append(label)\n",
    "    \n",
    "        \n",
    "#     if label == None\n",
    "#     if not label:\n",
    "#         print(label)"
   ]
  },
  {
   "cell_type": "code",
   "execution_count": 60,
   "metadata": {},
   "outputs": [
    {
     "name": "stdout",
     "output_type": "stream",
     "text": [
      "6210\n"
     ]
    }
   ],
   "source": [
    "print(len(l_label))"
   ]
  },
  {
   "cell_type": "code",
   "execution_count": 61,
   "metadata": {},
   "outputs": [],
   "source": [
    "for index, row in df3.iterrows():\n",
    "#     if int(row[\"Id\"]) >= 8000:\n",
    "#         if int(row[\"Id\"]) >= 12000:\n",
    "#             break\n",
    "    review = row[\"Review\"]\n",
    "    label = row[\"Label\"]\n",
    "    if math.isnan(label):\n",
    "#             print(index)\n",
    "        continue\n",
    "    label = int(label)\n",
    "    if label != 0 and label != 1:\n",
    "        continue\n",
    "    l_review.append(review)\n",
    "    l_label.append(label)\n",
    "\n",
    "        \n",
    "#     if label == None\n",
    "#     if not label:\n",
    "#         print(label)"
   ]
  },
  {
   "cell_type": "code",
   "execution_count": null,
   "metadata": {},
   "outputs": [],
   "source": []
  },
  {
   "cell_type": "code",
   "execution_count": 62,
   "metadata": {},
   "outputs": [
    {
     "name": "stdout",
     "output_type": "stream",
     "text": [
      "8035\n",
      "8035\n"
     ]
    }
   ],
   "source": [
    "print(len(l_label))\n",
    "print(len(l_review))"
   ]
  },
  {
   "cell_type": "code",
   "execution_count": 63,
   "metadata": {},
   "outputs": [],
   "source": [
    "for index, row in df4.iterrows():\n",
    "#     if int(row[\"Id\"]) >= 8000:\n",
    "#         if int(row[\"Id\"]) >= 12000:\n",
    "#             break\n",
    "    review = row[\"Review\"]\n",
    "    label = row[\"Label\"]\n",
    "    if math.isnan(label):\n",
    "#             print(index)\n",
    "        continue\n",
    "    label = int(label)\n",
    "    if label != 0 and label != 1:\n",
    "        continue\n",
    "    l_review.append(review)\n",
    "    l_label.append(label)\n",
    "\n",
    "        \n",
    "#     if label == None\n",
    "#     if not label:\n",
    "#         print(label)"
   ]
  },
  {
   "cell_type": "code",
   "execution_count": 64,
   "metadata": {},
   "outputs": [
    {
     "name": "stdout",
     "output_type": "stream",
     "text": [
      "9841\n",
      "9841\n"
     ]
    }
   ],
   "source": [
    "print(len(l_label))\n",
    "print(len(l_review))"
   ]
  },
  {
   "cell_type": "code",
   "execution_count": null,
   "metadata": {},
   "outputs": [],
   "source": [
    "#Merger version 1 and version 2"
   ]
  },
  {
   "cell_type": "code",
   "execution_count": 33,
   "metadata": {},
   "outputs": [
    {
     "data": {
      "text/html": [
       "<div>\n",
       "<style scoped>\n",
       "    .dataframe tbody tr th:only-of-type {\n",
       "        vertical-align: middle;\n",
       "    }\n",
       "\n",
       "    .dataframe tbody tr th {\n",
       "        vertical-align: top;\n",
       "    }\n",
       "\n",
       "    .dataframe thead th {\n",
       "        text-align: right;\n",
       "    }\n",
       "</style>\n",
       "<table border=\"1\" class=\"dataframe\">\n",
       "  <thead>\n",
       "    <tr style=\"text-align: right;\">\n",
       "      <th></th>\n",
       "      <th>Unnamed: 0</th>\n",
       "      <th>Review</th>\n",
       "      <th>Label</th>\n",
       "    </tr>\n",
       "  </thead>\n",
       "  <tbody>\n",
       "    <tr>\n",
       "      <th>0</th>\n",
       "      <td>0.0</td>\n",
       "      <td>mjh mua hàng tiki rất nhiều , nhưng lần này rấ...</td>\n",
       "      <td>positive</td>\n",
       "    </tr>\n",
       "    <tr>\n",
       "      <th>1</th>\n",
       "      <td>1.0</td>\n",
       "      <td>1hàng box đẹp, cài đặt dễ dàng qua app theo gi...</td>\n",
       "      <td>positive</td>\n",
       "    </tr>\n",
       "    <tr>\n",
       "      <th>2</th>\n",
       "      <td>2.0</td>\n",
       "      <td>quá xuất sắc 5 sao lun , shiper ok giao hàng n...</td>\n",
       "      <td>positive</td>\n",
       "    </tr>\n",
       "    <tr>\n",
       "      <th>3</th>\n",
       "      <td>3.0</td>\n",
       "      <td>không hài lòng vì tiki giao hàng làm lỡ việc c...</td>\n",
       "      <td>negative</td>\n",
       "    </tr>\n",
       "    <tr>\n",
       "      <th>4</th>\n",
       "      <td>4.0</td>\n",
       "      <td>bao bì đóng gói sản phẩm rất trang nhã, đủ phụ...</td>\n",
       "      <td>positive</td>\n",
       "    </tr>\n",
       "  </tbody>\n",
       "</table>\n",
       "</div>"
      ],
      "text/plain": [
       "   Unnamed: 0                                             Review     Label\n",
       "0         0.0  mjh mua hàng tiki rất nhiều , nhưng lần này rấ...  positive\n",
       "1         1.0  1hàng box đẹp, cài đặt dễ dàng qua app theo gi...  positive\n",
       "2         2.0  quá xuất sắc 5 sao lun , shiper ok giao hàng n...  positive\n",
       "3         3.0  không hài lòng vì tiki giao hàng làm lỡ việc c...  negative\n",
       "4         4.0  bao bì đóng gói sản phẩm rất trang nhã, đủ phụ...  positive"
      ]
     },
     "execution_count": 33,
     "metadata": {},
     "output_type": "execute_result"
    }
   ],
   "source": [
    "path_dataset1_v1 = \"/home/haiduong/Documents/DataScience-SentimentAnalysis/Data/Data_0_5k_sentiment.xlsx\"\n",
    "df1_v1 = pd.read_excel(path_dataset1_v1, sheet_name = 'Dataset')\n",
    "df1_v1.dropna()\n",
    "df1_v1.head()"
   ]
  },
  {
   "cell_type": "code",
   "execution_count": 36,
   "metadata": {},
   "outputs": [
    {
     "data": {
      "text/html": [
       "<div>\n",
       "<style scoped>\n",
       "    .dataframe tbody tr th:only-of-type {\n",
       "        vertical-align: middle;\n",
       "    }\n",
       "\n",
       "    .dataframe tbody tr th {\n",
       "        vertical-align: top;\n",
       "    }\n",
       "\n",
       "    .dataframe thead th {\n",
       "        text-align: right;\n",
       "    }\n",
       "</style>\n",
       "<table border=\"1\" class=\"dataframe\">\n",
       "  <thead>\n",
       "    <tr style=\"text-align: right;\">\n",
       "      <th></th>\n",
       "      <th>Unnamed: 0</th>\n",
       "      <th>Review</th>\n",
       "      <th>label</th>\n",
       "    </tr>\n",
       "  </thead>\n",
       "  <tbody>\n",
       "    <tr>\n",
       "      <th>0</th>\n",
       "      <td>0.0</td>\n",
       "      <td>mjh mua hàng tiki rất nhiều   nhưng lần này rấ...</td>\n",
       "      <td>NaN</td>\n",
       "    </tr>\n",
       "    <tr>\n",
       "      <th>1</th>\n",
       "      <td>1.0</td>\n",
       "      <td>1hàng box đẹp  cài đặt dễ dàng qua app theo gi...</td>\n",
       "      <td>NaN</td>\n",
       "    </tr>\n",
       "    <tr>\n",
       "      <th>2</th>\n",
       "      <td>2.0</td>\n",
       "      <td>quá xuất sắc 5 sao lun   shiper ok giao hàng n...</td>\n",
       "      <td>positive</td>\n",
       "    </tr>\n",
       "    <tr>\n",
       "      <th>3</th>\n",
       "      <td>3.0</td>\n",
       "      <td>không hài lòng vì tiki giao hàng làm lỡ việc c...</td>\n",
       "      <td>positive</td>\n",
       "    </tr>\n",
       "    <tr>\n",
       "      <th>4</th>\n",
       "      <td>4.0</td>\n",
       "      <td>bao bì đóng gói sản phẩm rất trang nhã  đủ phụ...</td>\n",
       "      <td>NaN</td>\n",
       "    </tr>\n",
       "  </tbody>\n",
       "</table>\n",
       "</div>"
      ],
      "text/plain": [
       "   Unnamed: 0                                             Review     label\n",
       "0         0.0  mjh mua hàng tiki rất nhiều   nhưng lần này rấ...       NaN\n",
       "1         1.0  1hàng box đẹp  cài đặt dễ dàng qua app theo gi...       NaN\n",
       "2         2.0  quá xuất sắc 5 sao lun   shiper ok giao hàng n...  positive\n",
       "3         3.0  không hài lòng vì tiki giao hàng làm lỡ việc c...  positive\n",
       "4         4.0  bao bì đóng gói sản phẩm rất trang nhã  đủ phụ...       NaN"
      ]
     },
     "execution_count": 36,
     "metadata": {},
     "output_type": "execute_result"
    }
   ],
   "source": [
    "path_dataset2_v1 = \"/home/haiduong/Documents/DataScience-SentimentAnalysis/Data/Dataset_version1_BMT.xlsx\"\n",
    "df2_v1 = pd.read_excel(path_dataset2_v1, sheet_name = 'Label_Dataset3')\n",
    "df2_v1.dropna()\n",
    "df2_v1.head()"
   ]
  },
  {
   "cell_type": "code",
   "execution_count": 37,
   "metadata": {},
   "outputs": [
    {
     "data": {
      "text/html": [
       "<div>\n",
       "<style scoped>\n",
       "    .dataframe tbody tr th:only-of-type {\n",
       "        vertical-align: middle;\n",
       "    }\n",
       "\n",
       "    .dataframe tbody tr th {\n",
       "        vertical-align: top;\n",
       "    }\n",
       "\n",
       "    .dataframe thead th {\n",
       "        text-align: right;\n",
       "    }\n",
       "</style>\n",
       "<table border=\"1\" class=\"dataframe\">\n",
       "  <thead>\n",
       "    <tr style=\"text-align: right;\">\n",
       "      <th></th>\n",
       "      <th>Unnamed: 0</th>\n",
       "      <th>Review</th>\n",
       "      <th>Label</th>\n",
       "    </tr>\n",
       "  </thead>\n",
       "  <tbody>\n",
       "    <tr>\n",
       "      <th>0</th>\n",
       "      <td>20000.0</td>\n",
       "      <td>màu xanh khá lạ mắt. máy chính hãng mượt mà. c...</td>\n",
       "      <td>positive</td>\n",
       "    </tr>\n",
       "    <tr>\n",
       "      <th>1</th>\n",
       "      <td>20001.0</td>\n",
       "      <td>Hàng nguyên seal nhé mn, cầm chắc chắn lắm, nó...</td>\n",
       "      <td>positive</td>\n",
       "    </tr>\n",
       "    <tr>\n",
       "      <th>2</th>\n",
       "      <td>20002.0</td>\n",
       "      <td>shop dao hàng nhanh nguyên sưu đúng sản phẩm</td>\n",
       "      <td>positive</td>\n",
       "    </tr>\n",
       "    <tr>\n",
       "      <th>3</th>\n",
       "      <td>20003.0</td>\n",
       "      <td>Đã lỡ mua nên phải xài. Máy ngoài chụp ảnh đẹp...</td>\n",
       "      <td>negative</td>\n",
       "    </tr>\n",
       "    <tr>\n",
       "      <th>4</th>\n",
       "      <td>20004.0</td>\n",
       "      <td>Quý shop giao hàng nhanh. Sản phẩm chính hãng....</td>\n",
       "      <td>positive</td>\n",
       "    </tr>\n",
       "  </tbody>\n",
       "</table>\n",
       "</div>"
      ],
      "text/plain": [
       "   Unnamed: 0                                             Review     Label\n",
       "0     20000.0  màu xanh khá lạ mắt. máy chính hãng mượt mà. c...  positive\n",
       "1     20001.0  Hàng nguyên seal nhé mn, cầm chắc chắn lắm, nó...  positive\n",
       "2     20002.0       shop dao hàng nhanh nguyên sưu đúng sản phẩm  positive\n",
       "3     20003.0  Đã lỡ mua nên phải xài. Máy ngoài chụp ảnh đẹp...  negative\n",
       "4     20004.0  Quý shop giao hàng nhanh. Sản phẩm chính hãng....  positive"
      ]
     },
     "execution_count": 37,
     "metadata": {},
     "output_type": "execute_result"
    }
   ],
   "source": [
    "path_dataset3_v1 = \"/home/haiduong/Documents/DataScience-SentimentAnalysis/Data/data20k-25k.xlsx\"\n",
    "df3_v1 = pd.read_excel(path_dataset3_v1, sheet_name = 'Sheet1')\n",
    "df3_v1.dropna()\n",
    "df3_v1.head()"
   ]
  },
  {
   "cell_type": "code",
   "execution_count": 42,
   "metadata": {},
   "outputs": [],
   "source": [
    "l_v1_review = []\n",
    "l_v1_label = []\n"
   ]
  },
  {
   "cell_type": "code",
   "execution_count": 44,
   "metadata": {},
   "outputs": [
    {
     "name": "stdout",
     "output_type": "stream",
     "text": [
      "4984\n"
     ]
    }
   ],
   "source": [
    "for index, row in df1_v1.iterrows():\n",
    "    if index > 5000:\n",
    "        break\n",
    "    review = row[\"Review\"]\n",
    "    label = row[\"Label\"]\n",
    "    if label == \"negative\":\n",
    "        label = 0\n",
    "    elif label == \"positive\":\n",
    "        label = 1\n",
    "    else:\n",
    "        continue\n",
    "    label = int(label)\n",
    "    if label != 0 and label != 1:\n",
    "        continue\n",
    "    l_v1_review.append(review)\n",
    "    l_v1_label.append(label)\n",
    "    \n",
    "        \n",
    "print(len(l_v1_label))"
   ]
  },
  {
   "cell_type": "code",
   "execution_count": 46,
   "metadata": {},
   "outputs": [
    {
     "name": "stdout",
     "output_type": "stream",
     "text": [
      "7886\n"
     ]
    }
   ],
   "source": [
    "for index, row in df2_v1.iterrows():\n",
    "    if index < 10000:\n",
    "        continue\n",
    "    if index >= 13000:\n",
    "        break\n",
    "    review = row[\"Review\"]\n",
    "    label = row[\"label\"]\n",
    "    if label == \"negative\":\n",
    "        label = 0\n",
    "    elif label == \"positive\":\n",
    "        label = 1\n",
    "    else:\n",
    "        continue\n",
    "    label = int(label)\n",
    "    if label != 0 and label != 1:\n",
    "        continue\n",
    "    l_v1_review.append(review)\n",
    "    l_v1_label.append(label)\n",
    "    \n",
    "        \n",
    "print(len(l_v1_label))"
   ]
  },
  {
   "cell_type": "code",
   "execution_count": 49,
   "metadata": {},
   "outputs": [
    {
     "name": "stdout",
     "output_type": "stream",
     "text": [
      "12863\n"
     ]
    }
   ],
   "source": [
    "for index, row in df3_v1.iterrows():\n",
    "#     if index < 20000:\n",
    "#         continue\n",
    "#     if index >= 25000:\n",
    "#         break\n",
    "    review = row[\"Review\"]\n",
    "    label = row[\"Label\"]\n",
    "    if label == \"negative\":\n",
    "        label = 0\n",
    "    elif label == \"positive\":\n",
    "        label = 1\n",
    "    else:\n",
    "        continue\n",
    "    label = int(label)\n",
    "    if label != 0 and label != 1:\n",
    "        continue\n",
    "    l_v1_review.append(review)\n",
    "    l_v1_label.append(label)\n",
    "    \n",
    "        \n",
    "print(len(l_v1_label))"
   ]
  },
  {
   "cell_type": "code",
   "execution_count": 66,
   "metadata": {},
   "outputs": [],
   "source": [
    "l_label.extend(l_v1_label)\n",
    "l_review.extend(l_v1_review)"
   ]
  },
  {
   "cell_type": "raw",
   "metadata": {},
   "source": [
    "\n"
   ]
  },
  {
   "cell_type": "code",
   "execution_count": 67,
   "metadata": {},
   "outputs": [
    {
     "name": "stdout",
     "output_type": "stream",
     "text": [
      "22704\n"
     ]
    }
   ],
   "source": [
    "print(len(l_label))"
   ]
  },
  {
   "cell_type": "code",
   "execution_count": null,
   "metadata": {},
   "outputs": [],
   "source": []
  },
  {
   "cell_type": "code",
   "execution_count": 41,
   "metadata": {},
   "outputs": [],
   "source": [
    "# '''\n",
    "# LOG: Get special character excel \n",
    "# '''\n",
    "# log_excel_character = \"\"\n",
    "# for index, row in df1_v1.iterrows():\n",
    "#     string_get = row[\"Review\"]\n",
    "# #     print(string_get)\n",
    "#     log_excel_character = string_get[82:89]\n",
    "#     print(log_excel_character)\n",
    "#     break\n",
    "    "
   ]
  },
  {
   "cell_type": "code",
   "execution_count": null,
   "metadata": {},
   "outputs": [],
   "source": []
  },
  {
   "cell_type": "code",
   "execution_count": 50,
   "metadata": {},
   "outputs": [],
   "source": [
    "# save_df = pd.DataFrame(columns=[\"Review\", \"Label\"])\n",
    "# save_df[\"Review\"] = l_v1_review\n",
    "# save_df[\"Label\"] = l_v1_label\n",
    "# save_df.to_excel(\"FullDataset_version1.xlsx\",sheet_name='Dataset',index = True)"
   ]
  },
  {
   "cell_type": "code",
   "execution_count": null,
   "metadata": {},
   "outputs": [],
   "source": []
  },
  {
   "cell_type": "markdown",
   "metadata": {},
   "source": [
    "# **Clean Data**"
   ]
  },
  {
   "cell_type": "code",
   "execution_count": 68,
   "metadata": {},
   "outputs": [],
   "source": [
    "def clean_data(l_review, l_label, special_excel_character):   \n",
    "    l_convert_string = []\n",
    "    l_convert_label = []\n",
    "    l_len_word = []\n",
    "    for index, review_str in enumerate(l_review):\n",
    "        if type(review_str) != str:\n",
    "            continue\n",
    "        #remove \"\\n\", duplicate blank space\n",
    "        clean_string = review_str.replace(\"\\n\",\"\")\n",
    "#         clean_string = review_str.replace(special_excel_character,\"\")\n",
    "        clean_string = \" \".join(clean_string.split())\n",
    "\n",
    "        #remove tag html\n",
    "        clean_string = remove_html(clean_string)\n",
    "        #remove emoji, special character\n",
    "        clean_string = remove_emojis(clean_string)\n",
    "\n",
    "        # format unicode\n",
    "        unicode_string = covert_unicode(clean_string)\n",
    "        #format vietnamese sign\n",
    "\n",
    "        \n",
    "        \n",
    "#         #lowcase\n",
    "        sign_string = lowercase_remove_noise_character(unicode_string)\n",
    "        #get only vietnamese character\n",
    "        sign_string = re.sub(r'[^\\s\\wáàảãạăắằẳẵặâấầẩẫậéèẻẽẹêếềểễệóòỏõọôốồổỗộơớờởỡợíìỉĩịúùủũụưứừửữựýỳỷỹỵđ_]','',sign_string)\n",
    "        sign_string = \" \".join(sign_string.split())\n",
    "        if len(sign_string) <= 1:\n",
    "            continue\n",
    "#         print(sign_string)\n",
    "        #tokenize\n",
    "        token_string = word_tokenize(sign_string, format=\"text\")\n",
    "        log_token = word_tokenize(sign_string)\n",
    "        l_len_word.append(len(log_token))\n",
    "        l_convert_string.append(token_string)\n",
    "        l_convert_label.append(l_label[index])\n",
    "    return l_convert_string, l_convert_label, l_len_word"
   ]
  },
  {
   "cell_type": "code",
   "execution_count": 69,
   "metadata": {},
   "outputs": [],
   "source": [
    "l_convert_string, l_convert_label, l_len_word = clean_data(l_review,l_label, log_excel_character)"
   ]
  },
  {
   "cell_type": "code",
   "execution_count": 70,
   "metadata": {},
   "outputs": [
    {
     "name": "stdout",
     "output_type": "stream",
     "text": [
      "22699\n"
     ]
    }
   ],
   "source": [
    "print(len(l_convert_string))\n"
   ]
  },
  {
   "cell_type": "code",
   "execution_count": 73,
   "metadata": {
    "scrolled": true
   },
   "outputs": [
    {
     "name": "stdout",
     "output_type": "stream",
     "text": [
      "['đóng gói chắc_chắn giao hàng đúng theo ngày đã dự_kiến 45 ngày mở ra thì 2 chai khá đầy vòi xịt dễ_dàng mới dùng nhưng không thích mùi lắm hơi hóa_học mùi nồng hơn trésemme và headshoulder trước dùng còn hiệu_quả thì chưa rõ_ràng lắm có_vẻ tóc mềm mượt hơn 1 xíu vì mới gội 1 lần', 'tiki đóng_gói rất cẩn_thận giao hàng nhanh mình ko nghĩ sẽ được nhận quà đâu nhưng bất_ngờ luôn dầu gội và xả rất thơm nha 3 hôm sau vẫn còn thơm còn hiệu_quả giảm rụng thì cần thời_gian theo_dõi', 'giao hàng trể chấp nhân đươc mua hang có quà tăng đi kèm hầu_như các đai lý đều không giao quà tăng ăn chăn bớt quà tăng của khách tiki quản cáo mua có quà tăng giao hàng lại không có vây ai mà còn mua hàng rồi lấy qua tăng bán lai dịch ngươi ta còn lên tiki mua hàng làm_ăn kiểu này ai còn mua nữa tôi mong nơi bán hàng trả lai quà tăng cho khách không thì làm_ăn đươc bao_lâu đâu', 'mình từng đặt_hàng trên tiki rất nhiều và luôn cảm_thấy tin_tưởng về khâu đóng_gói giao hadng cũng như chất_lượng sản_phẩm của tiki nhưng lần này rất thất_vọng hàng đóng_gói cực_kì ẩu không có chống sốc hay gì cả chỉ bọc 1 lớp bóng dù đã lưu_ý hàng dễ vỡ vỏ hộp móp méo thậm_chí còn bị thủng mình còn ngửi thấy mùi dầu gội tràn ra ngoài thực_sự thất_vọng', 'mở hộp ra thấy mùi thơm dễ_chịu đóng_gói cẩn_thận chưa dùng nên chưa bik chất_lượng sản_phẩm ntn có quà tặng đi kèm nói_chung chim_ưng okokokokokokokokeuwuwuwuwiieiwuwiwiwiwiwiwiwieieieieieiejejejeieieieoeoeoeoeoeeoeowooeoeeoeooeoeoeoeowowowowowoeoeoeoeoeoeoeoeoeoeoeoeoeoe', 'sản_phẩm đặt_hàng 1 tháng mới giao nguyên_nhân được phía giao hàng tiết_lộ là do đơn hàng trả tiền trước làm_ăn như_vậy đúng là mất uy_tín đáng_lẽ trả tuền trước thì phải giao sớm cho khách_hàng bởi_lẽ khách_hàng đã trả tiền trước có nghĩa là đã gửi_gắm niềm tin vào đó quá thất_vọng vì cách làm_ăn của shop', 'yêu_cầu xin được đổi trả hàng ngay_lập_tức vì nghĩ đây cũng là 1 thương_hiệu lớn chính hãng nên tin_tưởng mà đặt_hàng 2 sản_phẩm và được quà tặng kèm ai_ngờ lúc nhận hàng thật_sự rất là thất_vọng lúc khui thì thấy sp nằm không bên trong hộp hàng k có bao_bì sp hay đồ bao_bọc tránh các sp bị đổ trong lúc vận_chuyển check mã_vạch thì tìm k ra sp còn sp thì lại có 2 mã_vạch phụ tem thì bị tróc hạn sử_dụng thì bị mờ đặc_biệt hình_ảnh sản_phẩm lúc nhận hàng thì lại k giống với hình_ảnh thật chất ở bên shop nghi_ngờ đây không phải là hàng chính hãng mong bên tiki và shop có_thể phản_hồi và hỗ_trợ để trả đổi hàng', 'mình đã sử_dụng loại 50 ml cực_kì ưng luôn nên quyết_định tậu em này mấy lọ nhỏ nhỏ xinh_xinh là sp tặng kèm khi săn sale chưa sử_dụng nhưng mình có niềm tin to_lớn là mấy em sẽ khiến mình hài_lòng kiểu quá thích srm với tẩy_trang nên cái gì của laroche nhìn cũng ưng hết kkk chỉ có điểm trừ là hộp được giao đến tay mình trong tình_trạng rất tệ chưa mở là đã như hình rồi rất may đồ bên trong đều ko sao mình biết là mưa_gió giao hàng rất cực nên cx ko nói gì nhiều mong bên vận_chuyển sẽ cẩn_thận hơn', 'da mình từng make up rồi bị kích ứng nhưng nhờ có em này mà da mình dịu hẳn loại này thực_sự là chân ái mấy năm nay của mình nhưng hơi buồn là tiki đóng gói hàng cho mình chán quá trên hộp hàng ghi hàng cực_kì dễ vỡ mà hộp bị méo_mó còn bị rách nữa mong tiki chú_ý hơn nha', 'không biết sp có bị gì ko nữa về rửa xong mặt như dính keo lấy bông tẩy_trang lau mà dính vô mặt luôn mua vài lần rồi mà so_sánh với mẫu cũ mua thì nhãn bao_bì khác mua lúc sale nên chưa xài hết chai cũ giờ hết rồi lấy chai mới ra thì bị z mà qua tháng luôn rồi giờ chắc bỏ chứ xài sợ hư da haizzzzzzzzzzzzz']\n"
     ]
    }
   ],
   "source": [
    "print(l_convert_string[-10:])"
   ]
  },
  {
   "cell_type": "code",
   "execution_count": 40,
   "metadata": {},
   "outputs": [],
   "source": [
    "# import random \n",
    "# random.shuffle(l_convert_string)"
   ]
  },
  {
   "cell_type": "code",
   "execution_count": 75,
   "metadata": {},
   "outputs": [],
   "source": [
    "save_df = pd.DataFrame(columns=[\"Review\", \"Label\"])\n",
    "save_df[\"Review\"] = l_convert_string\n",
    "save_df[\"Label\"] = l_convert_label\n",
    "save_df.to_excel(\"Dataset_24_12_version1Mergeversion2.xlsx\",sheet_name='Dataset',index = True)"
   ]
  },
  {
   "cell_type": "code",
   "execution_count": 19,
   "metadata": {},
   "outputs": [],
   "source": [
    "# multilable_dataset = pd.DataFrame()\n",
    "\n",
    "# multilable_dataset = pd.DataFrame(columns=[\"Review\", \"Van chuyen\", \"Hang hoa\"])\n",
    "# multilable_dataset[\"Review\"] = l_convert_string\n",
    "\n",
    "# multilable_dataset.to_excel(\"multilable_dataset.xlsx\",sheet_name='Dataset',index = True)"
   ]
  },
  {
   "cell_type": "code",
   "execution_count": null,
   "metadata": {},
   "outputs": [],
   "source": []
  },
  {
   "cell_type": "code",
   "execution_count": null,
   "metadata": {},
   "outputs": [],
   "source": []
  },
  {
   "cell_type": "markdown",
   "metadata": {},
   "source": [
    "\n",
    "# **ReClean and Merge dataset**"
   ]
  },
  {
   "cell_type": "code",
   "execution_count": 8,
   "metadata": {},
   "outputs": [],
   "source": [
    "path_dataset = \"/home/haiduong/Documents/DataScience-SentimentAnalysis/Data/data20k-25k.xlsx\"\n",
    "df = pd.read_excel(path_dataset, sheet_name = 'Sheet1')"
   ]
  },
  {
   "cell_type": "code",
   "execution_count": 9,
   "metadata": {},
   "outputs": [],
   "source": [
    "path_dataset2 = \"/home/haiduong/Documents/DataScience-SentimentAnalysis/Data/Data_0_5k_sentiment.xlsx\"\n",
    "df2 = pd.read_excel(path_dataset2, sheet_name = 'Dataset')"
   ]
  },
  {
   "cell_type": "code",
   "execution_count": 10,
   "metadata": {},
   "outputs": [],
   "source": [
    "l_review = []\n",
    "l_label = []\n",
    "\n",
    "for index, row in df.iterrows():\n",
    "    review = row[\"Review\"]\n",
    "    label = row[\"Label\"]\n",
    "    l_review.append(review)\n",
    "    l_label.append(label)\n",
    "    \n",
    "for index, row in df2.iterrows():\n",
    "    review = row[\"Review\"]\n",
    "    label = row[\"Label\"]\n",
    "    l_review.append(review)\n",
    "    l_label.append(label)\n",
    "    if index >= 5000:\n",
    "        break\n",
    "    "
   ]
  },
  {
   "cell_type": "code",
   "execution_count": 11,
   "metadata": {},
   "outputs": [
    {
     "name": "stdout",
     "output_type": "stream",
     "text": [
      "10026\n"
     ]
    }
   ],
   "source": [
    "print(len(l_review))"
   ]
  },
  {
   "cell_type": "code",
   "execution_count": 12,
   "metadata": {
    "execution": {
     "iopub.execute_input": "2021-11-23T03:47:44.220256Z",
     "iopub.status.busy": "2021-11-23T03:47:44.219961Z",
     "iopub.status.idle": "2021-11-23T03:47:44.292114Z",
     "shell.execute_reply": "2021-11-23T03:47:44.290847Z",
     "shell.execute_reply.started": "2021-11-23T03:47:44.220226Z"
    }
   },
   "outputs": [
    {
     "ename": "NameError",
     "evalue": "name 'l_review' is not defined",
     "output_type": "error",
     "traceback": [
      "\u001b[0;31m---------------------------------------------------------------------------\u001b[0m",
      "\u001b[0;31mNameError\u001b[0m                                 Traceback (most recent call last)",
      "\u001b[0;32m<ipython-input-12-23926b23a321>\u001b[0m in \u001b[0;36m<module>\u001b[0;34m\u001b[0m\n\u001b[1;32m      6\u001b[0m \u001b[0;34m\u001b[0m\u001b[0m\n\u001b[1;32m      7\u001b[0m \u001b[0ml_len_word\u001b[0m \u001b[0;34m=\u001b[0m \u001b[0;34m[\u001b[0m\u001b[0;34m]\u001b[0m\u001b[0;34m\u001b[0m\u001b[0;34m\u001b[0m\u001b[0m\n\u001b[0;32m----> 8\u001b[0;31m \u001b[0;32mfor\u001b[0m \u001b[0mindex\u001b[0m\u001b[0;34m,\u001b[0m \u001b[0mreview\u001b[0m \u001b[0;32min\u001b[0m \u001b[0menumerate\u001b[0m\u001b[0;34m(\u001b[0m\u001b[0ml_review\u001b[0m\u001b[0;34m)\u001b[0m\u001b[0;34m:\u001b[0m\u001b[0;34m\u001b[0m\u001b[0;34m\u001b[0m\u001b[0m\n\u001b[0m\u001b[1;32m      9\u001b[0m     \u001b[0mreview_str\u001b[0m \u001b[0;34m=\u001b[0m \u001b[0mreview\u001b[0m\u001b[0;34m\u001b[0m\u001b[0;34m\u001b[0m\u001b[0m\n\u001b[1;32m     10\u001b[0m     \u001b[0mlabel\u001b[0m \u001b[0;34m=\u001b[0m \u001b[0ml_label\u001b[0m\u001b[0;34m[\u001b[0m\u001b[0mindex\u001b[0m\u001b[0;34m]\u001b[0m\u001b[0;34m\u001b[0m\u001b[0;34m\u001b[0m\u001b[0m\n",
      "\u001b[0;31mNameError\u001b[0m: name 'l_review' is not defined"
     ]
    }
   ],
   "source": [
    "\n",
    "l_convert_review = []\n",
    "l_convert_label = []\n",
    "# nagative 0\n",
    "# positive 1\n",
    "# None 2\n",
    "\n",
    "l_len_word = []\n",
    "for index, review in enumerate(l_review):\n",
    "    review_str = review\n",
    "    label = l_label[index]\n",
    "    if type(review_str) != str:\n",
    "        print(type(review_str))\n",
    "        continue\n",
    "    #remove \"\\n\", duplicate blank space\n",
    "    clean_string = review_str.replace(\"\\n\",\"\")\n",
    "    clean_string = \" \".join(clean_string.split())\n",
    "    \n",
    "    #remove tag html\n",
    "    clean_string = remove_html(clean_string)\n",
    "    #remove emoji, special character\n",
    "    clean_string = remove_emojis(clean_string)\n",
    "    \n",
    "    # format unicode\n",
    "    unicode_string = covert_unicode(clean_string)\n",
    "    #format vietnamese sign\n",
    "    \n",
    "    if len(unicode_string) <= 1:\n",
    "        continue\n",
    "    sign_string = lowercase_remove_noise_character(unicode_string)\n",
    "    sign_string = re.sub(r'[^\\s\\wáàảãạăắằẳẵặâấầẩẫậéèẻẽẹêếềểễệóòỏõọôốồổỗộơớờởỡợíìỉĩịúùủũụưứừửữựýỳỷỹỵđ_]','',sign_string)\n",
    "    sign_string = \" \".join(sign_string.split())\n",
    "    token_string = word_tokenize(sign_string, format=\"text\")\n",
    "    log_token = word_tokenize(sign_string)\n",
    "    if len(token_string) <= 1:\n",
    "        continue\n",
    "    \n",
    "    if label == \"negative\":\n",
    "        label = 0\n",
    "    elif label == \"positive\":\n",
    "        label = 1\n",
    "    else:\n",
    "        label = 2\n",
    "    l_len_word.append(len(log_token))\n",
    "    l_convert_review.append(token_string)\n",
    "    l_convert_label.append(label)"
   ]
  },
  {
   "cell_type": "code",
   "execution_count": 13,
   "metadata": {},
   "outputs": [
    {
     "name": "stdout",
     "output_type": "stream",
     "text": [
      "10023\n"
     ]
    }
   ],
   "source": [
    "print(len(l_convert_review))"
   ]
  },
  {
   "cell_type": "code",
   "execution_count": 14,
   "metadata": {},
   "outputs": [],
   "source": [
    "# print(l_convert_review[:100])"
   ]
  },
  {
   "cell_type": "code",
   "execution_count": 15,
   "metadata": {},
   "outputs": [],
   "source": [
    "save_df = pd.DataFrame(columns=[\"Review\", \"Label\"])\n",
    "save_df[\"Review\"] = l_convert_review\n",
    "save_df[\"Label\"] = l_convert_label\n",
    "save_df.to_excel(\"Merge_0-5k_20-25k.xlsx\",sheet_name='Dataset',index = True)"
   ]
  },
  {
   "cell_type": "code",
   "execution_count": 55,
   "metadata": {},
   "outputs": [],
   "source": [
    "l_convert_review = l_convert_string"
   ]
  },
  {
   "cell_type": "markdown",
   "metadata": {},
   "source": [
    "# **EDA DATA**"
   ]
  },
  {
   "cell_type": "code",
   "execution_count": 56,
   "metadata": {},
   "outputs": [],
   "source": [
    "#Log freq word in all labels\n",
    "dictionary_all = {}\n",
    "for index, sentence in enumerate(l_convert_review):\n",
    "#     if l_label[index] == 2:\n",
    "    tmp = sentence.split(\" \")\n",
    "    for word in tmp:\n",
    "        if word in dictionary_all:\n",
    "            dictionary_all[word] += 1\n",
    "        else:\n",
    "            dictionary_all[word] = 1\n",
    "sorted_freq_all = {k: v for k, v in sorted(dictionary_all.items(), key=lambda item: item[1],reverse=True)}\n"
   ]
  },
  {
   "cell_type": "code",
   "execution_count": 57,
   "metadata": {},
   "outputs": [],
   "source": [
    "#Log in negative\n",
    "dictionary_negative = {}\n",
    "for index, sentence in enumerate(l_convert_review):\n",
    "    if l_convert_label[index] == 0:\n",
    "        tmp = sentence.split(\" \")\n",
    "        for word in tmp:\n",
    "            if word in dictionary_negative:\n",
    "                dictionary_negative[word] += 1\n",
    "            else:\n",
    "                dictionary_negative[word] = 1\n",
    "sorted_freq_negative = {k: v for k, v in sorted(dictionary_negative.items(), key=lambda item: item[1],reverse=True)}"
   ]
  },
  {
   "cell_type": "code",
   "execution_count": 58,
   "metadata": {},
   "outputs": [],
   "source": [
    "#Log in positive\n",
    "dictionary_positive = {}\n",
    "for index, sentence in enumerate(l_convert_review):\n",
    "    if l_convert_label[index] == 1:\n",
    "        tmp = sentence.split(\" \")\n",
    "        for word in tmp:\n",
    "            if word in dictionary_positive:\n",
    "                dictionary_positive[word] += 1\n",
    "            else:\n",
    "                dictionary_positive[word] = 1\n",
    "sorted_freq_positive = {k: v for k, v in sorted(dictionary_positive.items(), key=lambda item: item[1],reverse=True)}\n"
   ]
  },
  {
   "cell_type": "code",
   "execution_count": 59,
   "metadata": {},
   "outputs": [],
   "source": [
    "#Log in None\n",
    "dictionary_none = {}\n",
    "for index, sentence in enumerate(l_convert_review):\n",
    "    if l_convert_label[index] == 2:\n",
    "        tmp = sentence.split(\" \")\n",
    "        for word in tmp:\n",
    "            if word in dictionary_none:\n",
    "                dictionary_none[word] += 1\n",
    "            else:\n",
    "                dictionary_none[word] = 1\n",
    "sorted_freq_none = {k: v for k, v in sorted(dictionary_none.items(), key=lambda item: item[1],reverse=True)}\n"
   ]
  },
  {
   "cell_type": "code",
   "execution_count": 60,
   "metadata": {},
   "outputs": [],
   "source": [
    "#Log top 30\n",
    "log_freq = []\n",
    "log_ratio = []\n",
    "log_freq_negative = []\n",
    "log_freq_positive = []\n",
    "log_freq_none = []\n",
    "count = 0\n",
    "for key in sorted_freq_all.keys():\n",
    "    count += 1\n",
    "    if count >= 30:\n",
    "        break\n",
    "    freq_total = sorted_freq_all[key]\n",
    "    freq_negative = sorted_freq_negative[key]\n",
    "    freq_positive = sorted_freq_positive[key]\n",
    "    if key not in sorted_freq_none:\n",
    "        freq_non = 0\n",
    "    else:\n",
    "        freq_non = sorted_freq_none[key]\n",
    "    ratio = freq_negative / freq_positive\n",
    "    log_freq_negative.append(freq_negative)\n",
    "    log_freq_positive.append(freq_positive)\n",
    "    log_freq_none.append(freq_non)\n",
    "    log_freq.append(key)\n",
    "    "
   ]
  },
  {
   "cell_type": "code",
   "execution_count": 61,
   "metadata": {},
   "outputs": [
    {
     "name": "stdout",
     "output_type": "stream",
     "text": [
      "['hàng', 'mình', 'không', 'có', 'rất', 'mua', 'thì', 'là', 'và', 'sản_phẩm', 'được', 'nên', 'giao', 'nhưng', 'tiki', 'dùng', 'này', 'cho', 'như', 'tốt', 'ko', '1', 'bị', 'mà', 'với', 'thấy', 'để', 'của', 'cũng']\n"
     ]
    }
   ],
   "source": [
    "print(log_freq)"
   ]
  },
  {
   "cell_type": "markdown",
   "metadata": {},
   "source": [
    "# **Plot bar char**"
   ]
  },
  {
   "cell_type": "code",
   "execution_count": 62,
   "metadata": {},
   "outputs": [
    {
     "data": {
      "image/png": "[encoded data removed]",
      "text/plain": [
       "<Figure size 2880x640 with 1 Axes>"
      ]
     },
     "metadata": {
      "needs_background": "light"
     },
     "output_type": "display_data"
    }
   ],
   "source": [
    "import numpy as np\n",
    "import matplotlib.pyplot as plt\n",
    "# plt.figure(figsize=(8, 24), dpi=800)\n",
    "# plt.rcParams.update({'font.size': 18})\n",
    "ind = np.arange(len(log_freq_negative))\n",
    "width = 0.35\n",
    "\n",
    "fig = plt.subplots(figsize =(36, 8), dpi=80)\n",
    "\n",
    "\n",
    "p1 = plt.bar(ind, log_freq_negative, width)\n",
    "p2 = plt.bar(ind, log_freq_positive, width, bottom = log_freq_negative)\n",
    "\n",
    "plt.ylabel('Count')\n",
    "\n",
    "plt.title('Bar char the number of occurrences word ')\n",
    "plt.xticks(ind, log_freq)\n",
    "# plt.yticks(np.arange(0, 81, 10))\n",
    "plt.legend((p1[0], p2[0]), ('Negative', 'Positive'))\n",
    "\n",
    "plt.show()\n"
   ]
  },
  {
   "cell_type": "code",
   "execution_count": 63,
   "metadata": {},
   "outputs": [
    {
     "data": {
      "image/png": "[encoded data removed]",
      "text/plain": [
       "<Figure size 2880x640 with 1 Axes>"
      ]
     },
     "metadata": {
      "needs_background": "light"
     },
     "output_type": "display_data"
    }
   ],
   "source": [
    "import numpy as np\n",
    "import matplotlib.pyplot as plt\n",
    "# plt.figure(figsize=(8, 24), dpi=800)\n",
    "# plt.rcParams.update({'font.size': 18})\n",
    "ind = np.arange(len(log_freq_negative))\n",
    "width = 0.35\n",
    "\n",
    "fig = plt.subplots(figsize =(36, 8), dpi=80)\n",
    "\n",
    "\n",
    "p1 = plt.bar(ind, log_freq_negative, width)\n",
    "\n",
    "plt.ylabel('Count')\n",
    "\n",
    "plt.title('Bar char the number of occurrences word in Negative')\n",
    "plt.xticks(ind, log_freq)\n",
    "\n",
    "\n",
    "plt.show()\n"
   ]
  },
  {
   "cell_type": "code",
   "execution_count": 64,
   "metadata": {},
   "outputs": [
    {
     "data": {
      "image/png": "[encoded data removed]",
      "text/plain": [
       "<Figure size 2880x640 with 1 Axes>"
      ]
     },
     "metadata": {
      "needs_background": "light"
     },
     "output_type": "display_data"
    }
   ],
   "source": [
    "import numpy as np\n",
    "import matplotlib.pyplot as plt\n",
    "# plt.figure(figsize=(8, 24), dpi=800)\n",
    "# plt.rcParams.update({'font.size': 18})\n",
    "ind = np.arange(len(log_freq_positive))\n",
    "width = 0.35\n",
    "\n",
    "fig = plt.subplots(figsize =(36, 8), dpi=80)\n",
    "\n",
    "\n",
    "p1 = plt.bar(ind, log_freq_positive, width)\n",
    "\n",
    "plt.ylabel('Count')\n",
    "\n",
    "plt.title('Bar char the number of occurrences word in Positive')\n",
    "plt.xticks(ind, log_freq)\n",
    "\n",
    "plt.show()\n"
   ]
  },
  {
   "cell_type": "code",
   "execution_count": 65,
   "metadata": {},
   "outputs": [
    {
     "data": {
      "image/png": "[encoded data removed]",
      "text/plain": [
       "<Figure size 2880x640 with 1 Axes>"
      ]
     },
     "metadata": {
      "needs_background": "light"
     },
     "output_type": "display_data"
    }
   ],
   "source": [
    "import numpy as np\n",
    "import matplotlib.pyplot as plt\n",
    "ind = np.arange(len(log_freq_none))\n",
    "width = 0.35\n",
    "\n",
    "fig = plt.subplots(figsize =(36, 8), dpi=80)\n",
    "\n",
    "\n",
    "p1 = plt.bar(ind, log_freq_none, width)\n",
    "\n",
    "plt.ylabel('Count')\n",
    "\n",
    "plt.title('Bar char the number of occurrences word in None')\n",
    "plt.xticks(ind, log_freq)\n",
    "\n",
    "plt.show()\n"
   ]
  },
  {
   "cell_type": "markdown",
   "metadata": {},
   "source": [
    "# **PLot Histogram**"
   ]
  },
  {
   "cell_type": "code",
   "execution_count": 72,
   "metadata": {},
   "outputs": [
    {
     "data": {
      "image/png": "[encoded data removed]",
      "text/plain": [
       "<Figure size 5760x1280 with 1 Axes>"
      ]
     },
     "metadata": {
      "needs_background": "light"
     },
     "output_type": "display_data"
    }
   ],
   "source": [
    "#Histogram plot for len word in a review\n",
    "\n",
    "review_data = np.array(l_len_word)\n",
    "fig = plt.figure(figsize =(36, 8), dpi=160)\n",
    "d = np.diff(np.unique(review_data)).min()\n",
    "left_of_first_bin = review_data.min() - float(d)/2\n",
    "right_of_last_bin = review_data.max() + float(d)/2\n",
    "plt.title('Histogram plot for len word in a review')\n",
    "plt.hist(review_data, np.arange(left_of_first_bin, right_of_last_bin + d, d))\n",
    "plt.show()"
   ]
  },
  {
   "cell_type": "markdown",
   "metadata": {},
   "source": [
    "# **Plot Box plot**"
   ]
  },
  {
   "cell_type": "code",
   "execution_count": 73,
   "metadata": {},
   "outputs": [
    {
     "data": {
      "image/png": "[encoded data removed]",
      "text/plain": [
       "<Figure size 720x504 with 1 Axes>"
      ]
     },
     "metadata": {
      "needs_background": "light"
     },
     "output_type": "display_data"
    }
   ],
   "source": [
    "#Plot Box plot for len word in a review\n",
    "data = np.array(l_len_word)\n",
    " \n",
    "fig = plt.figure(figsize =(10, 7))\n",
    " \n",
    "# Creating plot\n",
    "plt.boxplot(data)\n",
    " \n",
    "# show plot\n",
    "plt.show()"
   ]
  },
  {
   "cell_type": "markdown",
   "metadata": {},
   "source": [
    "# **Preprocessing**\n",
    "Remove StopWord and set max length sentence"
   ]
  },
  {
   "cell_type": "markdown",
   "metadata": {},
   "source": [
    "Set top 30 stop word\n",
    "Set max length = 200"
   ]
  },
  {
   "cell_type": "code",
   "execution_count": 13,
   "metadata": {
    "execution": {
     "iopub.execute_input": "2021-11-22T10:29:58.427458Z",
     "iopub.status.busy": "2021-11-22T10:29:58.427134Z",
     "iopub.status.idle": "2021-11-22T10:30:03.690139Z",
     "shell.execute_reply": "2021-11-22T10:30:03.689344Z",
     "shell.execute_reply.started": "2021-11-22T10:29:58.427425Z"
    }
   },
   "outputs": [],
   "source": [
    "#Reload data \n",
    "path_dataset = \"/home/haiduong/Documents/DataScience-SentimentAnalysis/Clean_dataset.xlsx\"\n",
    "dataframe = pd.read_excel(path_dataset, sheet_name = 'Dataset')\n"
   ]
  },
  {
   "cell_type": "code",
   "execution_count": 17,
   "metadata": {},
   "outputs": [
    {
     "data": {
      "text/html": [
       "<div>\n",
       "<style scoped>\n",
       "    .dataframe tbody tr th:only-of-type {\n",
       "        vertical-align: middle;\n",
       "    }\n",
       "\n",
       "    .dataframe tbody tr th {\n",
       "        vertical-align: top;\n",
       "    }\n",
       "\n",
       "    .dataframe thead th {\n",
       "        text-align: right;\n",
       "    }\n",
       "</style>\n",
       "<table border=\"1\" class=\"dataframe\">\n",
       "  <thead>\n",
       "    <tr style=\"text-align: right;\">\n",
       "      <th></th>\n",
       "      <th>Unnamed: 0</th>\n",
       "      <th>Review</th>\n",
       "      <th>Label_Ship</th>\n",
       "      <th>Label_SP</th>\n",
       "    </tr>\n",
       "  </thead>\n",
       "  <tbody>\n",
       "    <tr>\n",
       "      <th>0</th>\n",
       "      <td>0.0</td>\n",
       "      <td>giao hàng đúng hẹnáo đẹpđường may chắc chắnsho...</td>\n",
       "      <td>1.0</td>\n",
       "      <td>1.0</td>\n",
       "    </tr>\n",
       "    <tr>\n",
       "      <th>1</th>\n",
       "      <td>1.0</td>\n",
       "      <td>giao hàng đúng hẹnáo đẹpđường may chắc chắnsho...</td>\n",
       "      <td>1.0</td>\n",
       "      <td>1.0</td>\n",
       "    </tr>\n",
       "    <tr>\n",
       "      <th>2</th>\n",
       "      <td>2.0</td>\n",
       "      <td>lần đâu mua hàng tại tiki mình rất hài lònggia...</td>\n",
       "      <td>1.0</td>\n",
       "      <td>0.0</td>\n",
       "    </tr>\n",
       "    <tr>\n",
       "      <th>3</th>\n",
       "      <td>3.0</td>\n",
       "      <td>không hài_lòng sản_phẩm có size quá nhỏ để dùn...</td>\n",
       "      <td>1.0</td>\n",
       "      <td>1.0</td>\n",
       "    </tr>\n",
       "    <tr>\n",
       "      <th>4</th>\n",
       "      <td>4.0</td>\n",
       "      <td>hàng chính hãng giá tốt sản_phẩm tốt như giới_...</td>\n",
       "      <td>0.0</td>\n",
       "      <td>1.0</td>\n",
       "    </tr>\n",
       "  </tbody>\n",
       "</table>\n",
       "</div>"
      ],
      "text/plain": [
       "   Unnamed: 0                                             Review  Label_Ship  \\\n",
       "0         0.0  giao hàng đúng hẹnáo đẹpđường may chắc chắnsho...         1.0   \n",
       "1         1.0  giao hàng đúng hẹnáo đẹpđường may chắc chắnsho...         1.0   \n",
       "2         2.0  lần đâu mua hàng tại tiki mình rất hài lònggia...         1.0   \n",
       "3         3.0  không hài_lòng sản_phẩm có size quá nhỏ để dùn...         1.0   \n",
       "4         4.0  hàng chính hãng giá tốt sản_phẩm tốt như giới_...         0.0   \n",
       "\n",
       "   Label_SP  \n",
       "0       1.0  \n",
       "1       1.0  \n",
       "2       0.0  \n",
       "3       1.0  \n",
       "4       1.0  "
      ]
     },
     "execution_count": 17,
     "metadata": {},
     "output_type": "execute_result"
    }
   ],
   "source": [
    "dataframe.head()"
   ]
  },
  {
   "cell_type": "code",
   "execution_count": 74,
   "metadata": {},
   "outputs": [],
   "source": [
    "# log_freq\n",
    "MAX_LENGTH = 200"
   ]
  },
  {
   "cell_type": "code",
   "execution_count": 75,
   "metadata": {},
   "outputs": [],
   "source": [
    "def remove_stop_word(sentence, log_stopword):\n",
    "    for word in log_stopword:\n",
    "        sentence = sentence.replace(word,\"\")\n",
    "    return sentence\n",
    "def set_length_sentence(sentence):\n",
    "    tmp = sentence.split(\" \")\n",
    "    if len(tmp) > MAX_LENGTH:\n",
    "        tmp = tmp[:MAX_LENGTH]\n",
    "        print(\"set length\")\n",
    "    sentence = \" \".join(tmp)\n",
    "    return sentence"
   ]
  },
  {
   "cell_type": "code",
   "execution_count": 76,
   "metadata": {},
   "outputs": [
    {
     "name": "stdout",
     "output_type": "stream",
     "text": [
      "19\n"
     ]
    }
   ],
   "source": [
    "log_stopword = [\"hàng\", \"mình\",\"có\",\"mua\", \"giao\", \"thì\", \"sản_phẩm\",\"là\", \"và\", \"nhưng\", \"nên\", \"shop\", \"tiki\", \"cho\", \"như\", \"1\", \"ko\", \"này\", \"với\"]\n",
    "print(len(log_stopword))"
   ]
  },
  {
   "cell_type": "code",
   "execution_count": 77,
   "metadata": {},
   "outputs": [
    {
     "name": "stdout",
     "output_type": "stream",
     "text": [
      "set length\n",
      "set length\n",
      "set length\n",
      "set length\n",
      "set length\n",
      "set length\n",
      "set length\n",
      "set length\n",
      "set length\n",
      "set length\n",
      "set length\n",
      "set length\n",
      "set length\n",
      "set length\n",
      "set length\n",
      "set length\n",
      "set length\n",
      "set length\n",
      "set length\n",
      "set length\n",
      "set length\n",
      "set length\n",
      "set length\n",
      "set length\n",
      "set length\n",
      "set length\n",
      "set length\n",
      "set length\n",
      "set length\n",
      "set length\n",
      "set length\n",
      "set length\n",
      "set length\n",
      "set length\n",
      "set length\n",
      "set length\n",
      "set length\n",
      "set length\n"
     ]
    }
   ],
   "source": [
    "l_convert_review_nonstopword = []\n",
    "l_convert_label_nonstopword  = []\n",
    "for index, review in enumerate(l_convert_review):\n",
    "    un_stopword_review = remove_stop_word(review,log_stopword)\n",
    "    review = set_length_sentence(un_stopword_review)\n",
    "    if len(review) < 1:\n",
    "        continue\n",
    "    l_convert_review_nonstopword.append(review)\n",
    "    l_convert_label_nonstopword.append(l_convert_label[index])\n",
    "    "
   ]
  },
  {
   "cell_type": "code",
   "execution_count": 35,
   "metadata": {},
   "outputs": [
    {
     "name": "stdout",
     "output_type": "stream",
     "text": [
      "set length\n",
      "set length\n",
      "set length\n",
      "set length\n",
      "set length\n",
      "set length\n",
      "set length\n",
      "set length\n",
      "set length\n",
      "set length\n"
     ]
    }
   ],
   "source": [
    "l_convert_review = []\n",
    "l_label_ship = []\n",
    "l_label_sp = []\n",
    "for index, row in dataframe.iterrows():\n",
    "    if pd.isnull(dataframe.at[index,'Label_Ship']) or pd.isnull(dataframe.at[index,'Label_SP']):\n",
    "        continue\n",
    "    review = str(row[\"Review\"])\n",
    "    label_ship = int(row[\"Label_Ship\"])\n",
    "    label_sp = int(row[\"Label_SP\"])\n",
    "    if label_ship != 0 and label_ship != 1:\n",
    "        print(label_ship)\n",
    "    if label_sp != 0 and label_sp != 1:\n",
    "        print(label_sp)  \n",
    "    \n",
    "    un_stopword_review = remove_stop_word(review,log_stopword)\n",
    "    review = set_length_sentence(review)\n",
    "    l_convert_review.append(review)\n",
    "    l_label_ship.append(label_ship)\n",
    "    l_label_sp.append(label_sp)\n"
   ]
  },
  {
   "cell_type": "code",
   "execution_count": null,
   "metadata": {},
   "outputs": [],
   "source": []
  },
  {
   "cell_type": "code",
   "execution_count": 78,
   "metadata": {},
   "outputs": [],
   "source": [
    "save_df = pd.DataFrame(columns=[\"Review\", \"Label\"])\n",
    "save_df[\"Review\"] = l_convert_review_nonstopword\n",
    "save_df[\"Label\"] = l_convert_label_nonstopword\n",
    "\n",
    "save_df.to_excel(\"Dataset_23_12_non_stopword.xlsx\",sheet_name='Dataset',index = True)"
   ]
  },
  {
   "cell_type": "code",
   "execution_count": null,
   "metadata": {},
   "outputs": [],
   "source": []
  },
  {
   "cell_type": "code",
   "execution_count": null,
   "metadata": {},
   "outputs": [],
   "source": []
  },
  {
   "cell_type": "code",
   "execution_count": null,
   "metadata": {},
   "outputs": [],
   "source": []
  },
  {
   "cell_type": "code",
   "execution_count": null,
   "metadata": {},
   "outputs": [],
   "source": []
  }
 ],
 "metadata": {
  "kernelspec": {
   "display_name": "myenv",
   "language": "python",
   "name": "myenv"
  },
  "language_info": {
   "codemirror_mode": {
    "name": "ipython",
    "version": 3
   },
   "file_extension": ".py",
   "mimetype": "text/x-python",
   "name": "python",
   "nbconvert_exporter": "python",
   "pygments_lexer": "ipython3",
   "version": "3.8.12"
  }
 },
 "nbformat": 4,
 "nbformat_minor": 4
}
