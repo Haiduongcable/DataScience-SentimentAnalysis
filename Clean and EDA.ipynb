{
 "cells": [
  {
   "cell_type": "code",
   "execution_count": 1,
   "metadata": {
    "_cell_guid": "b1076dfc-b9ad-4769-8c92-a6c4dae69d19",
    "_uuid": "8f2839f25d086af736a60e9eeb907d3b93b6e0e5",
    "execution": {
     "iopub.execute_input": "2021-11-22T09:34:23.028378Z",
     "iopub.status.busy": "2021-11-22T09:34:23.028036Z",
     "iopub.status.idle": "2021-11-22T09:34:23.034395Z",
     "shell.execute_reply": "2021-11-22T09:34:23.033397Z",
     "shell.execute_reply.started": "2021-11-22T09:34:23.028329Z"
    }
   },
   "outputs": [],
   "source": [
    "import pandas as pd \n",
    "import numpy as np \n",
    "import os \n",
    "import time \n",
    "import regex as re"
   ]
  },
  {
   "cell_type": "code",
   "execution_count": 2,
   "metadata": {},
   "outputs": [],
   "source": [
    "from underthesea import word_tokenize"
   ]
  },
  {
   "cell_type": "code",
   "execution_count": 3,
   "metadata": {},
   "outputs": [],
   "source": [
    "import re\n",
    "def remove_emojis(data):\n",
    "    emoj = re.compile(\"[\"\n",
    "        u\"\\U0001F600-\\U0001F64F\" \n",
    "        u\"\\U0001F300-\\U0001F5FF\"  \n",
    "        u\"\\U0001F680-\\U0001F6FF\"  \n",
    "        u\"\\U0001F1E0-\\U0001F1FF\"  \n",
    "        u\"\\U00002500-\\U00002BEF\"  \n",
    "        u\"\\U00002702-\\U000027B0\"\n",
    "        u\"\\U00002702-\\U000027B0\"\n",
    "        u\"\\U000024C2-\\U0001F251\"\n",
    "        u\"\\U0001f926-\\U0001f937\"\n",
    "        u\"\\U00010000-\\U0010ffff\"\n",
    "        u\"\\u2640-\\u2642\" \n",
    "        u\"\\u2600-\\u2B55\"\n",
    "        u\"\\u200d\"\n",
    "        u\"\\u23cf\"\n",
    "        u\"\\u23e9\"\n",
    "        u\"\\u231a\"\n",
    "        u\"\\ufe0f\"  \n",
    "        u\"\\u3030\"\n",
    "                      \"]+\", re.UNICODE)\n",
    "    return re.sub(emoj, '', data)"
   ]
  },
  {
   "cell_type": "code",
   "execution_count": 4,
   "metadata": {},
   "outputs": [],
   "source": [
    "import regex as re\n",
    " \n",
    "uniChars = \"àáảãạâầấẩẫậăằắẳẵặèéẻẽẹêềếểễệđìíỉĩịòóỏõọôồốổỗộơờớởỡợùúủũụưừứửữựỳýỷỹỵÀÁẢÃẠÂẦẤẨẪẬĂẰẮẲẴẶÈÉẺẼẸÊỀẾỂỄỆĐÌÍỈĨỊÒÓỎÕỌÔỒỐỔỖỘƠỜỚỞỠỢÙÚỦŨỤƯỪỨỬỮỰỲÝỶỸỴÂĂĐÔƠƯ\"\n",
    "unsignChars = \"aaaaaaaaaaaaaaaaaeeeeeeeeeeediiiiiooooooooooooooooouuuuuuuuuuuyyyyyAAAAAAAAAAAAAAAAAEEEEEEEEEEEDIIIOOOOOOOOOOOOOOOOOOOUUUUUUUUUUUYYYYYAADOOU\"\n",
    " \n",
    " \n",
    "def loaddicchar():\n",
    "    dic = {}\n",
    "    char1252 = 'à|á|ả|ã|ạ|ầ|ấ|ẩ|ẫ|ậ|ằ|ắ|ẳ|ẵ|ặ|è|é|ẻ|ẽ|ẹ|ề|ế|ể|ễ|ệ|ì|í|ỉ|ĩ|ị|ò|ó|ỏ|õ|ọ|ồ|ố|ổ|ỗ|ộ|ờ|ớ|ở|ỡ|ợ|ù|ú|ủ|ũ|ụ|ừ|ứ|ử|ữ|ự|ỳ|ý|ỷ|ỹ|ỵ|À|Á|Ả|Ã|Ạ|Ầ|Ấ|Ẩ|Ẫ|Ậ|Ằ|Ắ|Ẳ|Ẵ|Ặ|È|É|Ẻ|Ẽ|Ẹ|Ề|Ế|Ể|Ễ|Ệ|Ì|Í|Ỉ|Ĩ|Ị|Ò|Ó|Ỏ|Õ|Ọ|Ồ|Ố|Ổ|Ỗ|Ộ|Ờ|Ớ|Ở|Ỡ|Ợ|Ù|Ú|Ủ|Ũ|Ụ|Ừ|Ứ|Ử|Ữ|Ự|Ỳ|Ý|Ỷ|Ỹ|Ỵ'.split(\n",
    "        '|')\n",
    "    charutf8 = \"à|á|ả|ã|ạ|ầ|ấ|ẩ|ẫ|ậ|ằ|ắ|ẳ|ẵ|ặ|è|é|ẻ|ẽ|ẹ|ề|ế|ể|ễ|ệ|ì|í|ỉ|ĩ|ị|ò|ó|ỏ|õ|ọ|ồ|ố|ổ|ỗ|ộ|ờ|ớ|ở|ỡ|ợ|ù|ú|ủ|ũ|ụ|ừ|ứ|ử|ữ|ự|ỳ|ý|ỷ|ỹ|ỵ|À|Á|Ả|Ã|Ạ|Ầ|Ấ|Ẩ|Ẫ|Ậ|Ằ|Ắ|Ẳ|Ẵ|Ặ|È|É|Ẻ|Ẽ|Ẹ|Ề|Ế|Ể|Ễ|Ệ|Ì|Í|Ỉ|Ĩ|Ị|Ò|Ó|Ỏ|Õ|Ọ|Ồ|Ố|Ổ|Ỗ|Ộ|Ờ|Ớ|Ở|Ỡ|Ợ|Ù|Ú|Ủ|Ũ|Ụ|Ừ|Ứ|Ử|Ữ|Ự|Ỳ|Ý|Ỷ|Ỹ|Ỵ\".split(\n",
    "        '|')\n",
    "    for i in range(len(char1252)):\n",
    "        dic[char1252[i]] = charutf8[i]\n",
    "    return dic\n",
    " \n",
    " \n",
    "dicchar = loaddicchar()\n",
    " \n",
    "# Đưa toàn bộ dữ liệu qua hàm này để chuẩn hóa lại\n",
    "def covert_unicode(txt):\n",
    "    return re.sub(\n",
    "        r'à|á|ả|ã|ạ|ầ|ấ|ẩ|ẫ|ậ|ằ|ắ|ẳ|ẵ|ặ|è|é|ẻ|ẽ|ẹ|ề|ế|ể|ễ|ệ|ì|í|ỉ|ĩ|ị|ò|ó|ỏ|õ|ọ|ồ|ố|ổ|ỗ|ộ|ờ|ớ|ở|ỡ|ợ|ù|ú|ủ|ũ|ụ|ừ|ứ|ử|ữ|ự|ỳ|ý|ỷ|ỹ|ỵ|À|Á|Ả|Ã|Ạ|Ầ|Ấ|Ẩ|Ẫ|Ậ|Ằ|Ắ|Ẳ|Ẵ|Ặ|È|É|Ẻ|Ẽ|Ẹ|Ề|Ế|Ể|Ễ|Ệ|Ì|Í|Ỉ|Ĩ|Ị|Ò|Ó|Ỏ|Õ|Ọ|Ồ|Ố|Ổ|Ỗ|Ộ|Ờ|Ớ|Ở|Ỡ|Ợ|Ù|Ú|Ủ|Ũ|Ụ|Ừ|Ứ|Ử|Ữ|Ự|Ỳ|Ý|Ỷ|Ỹ|Ỵ',\n",
    "        lambda x: dicchar[x.group()], txt)\n",
    "\n",
    "\n",
    "def remove_html(txt):\n",
    "    return re.sub(r'<[^>]*>', '', txt)"
   ]
  },
  {
   "cell_type": "code",
   "execution_count": 5,
   "metadata": {},
   "outputs": [],
   "source": [
    "\n",
    "\n",
    " \n",
    "uniChars = \"àáảãạâầấẩẫậăằắẳẵặèéẻẽẹêềếểễệđìíỉĩịòóỏõọôồốổỗộơờớởỡợùúủũụưừứửữựỳýỷỹỵÀÁẢÃẠÂẦẤẨẪẬĂẰẮẲẴẶÈÉẺẼẸÊỀẾỂỄỆĐÌÍỈĨỊÒÓỎÕỌÔỒỐỔỖỘƠỜỚỞỠỢÙÚỦŨỤƯỪỨỬỮỰỲÝỶỸỴÂĂĐÔƠƯ\"\n",
    "unsignChars = \"aaaaaaaaaaaaaaaaaeeeeeeeeeeediiiiiooooooooooooooooouuuuuuuuuuuyyyyyAAAAAAAAAAAAAAAAAEEEEEEEEEEEDIIIOOOOOOOOOOOOOOOOOOOUUUUUUUUUUUYYYYYAADOOU\"\n",
    " \n",
    "def loaddicchar():\n",
    "    dic = {}\n",
    "    char1252 = 'à|á|ả|ã|ạ|ầ|ấ|ẩ|ẫ|ậ|ằ|ắ|ẳ|ẵ|ặ|è|é|ẻ|ẽ|ẹ|ề|ế|ể|ễ|ệ|ì|í|ỉ|ĩ|ị|ò|ó|ỏ|õ|ọ|ồ|ố|ổ|ỗ|ộ|ờ|ớ|ở|ỡ|ợ|ù|ú|ủ|ũ|ụ|ừ|ứ|ử|ữ|ự|ỳ|ý|ỷ|ỹ|ỵ|À|Á|Ả|Ã|Ạ|Ầ|Ấ|Ẩ|Ẫ|Ậ|Ằ|Ắ|Ẳ|Ẵ|Ặ|È|É|Ẻ|Ẽ|Ẹ|Ề|Ế|Ể|Ễ|Ệ|Ì|Í|Ỉ|Ĩ|Ị|Ò|Ó|Ỏ|Õ|Ọ|Ồ|Ố|Ổ|Ỗ|Ộ|Ờ|Ớ|Ở|Ỡ|Ợ|Ù|Ú|Ủ|Ũ|Ụ|Ừ|Ứ|Ử|Ữ|Ự|Ỳ|Ý|Ỷ|Ỹ|Ỵ'.split(\n",
    "        '|')\n",
    "    charutf8 = \"à|á|ả|ã|ạ|ầ|ấ|ẩ|ẫ|ậ|ằ|ắ|ẳ|ẵ|ặ|è|é|ẻ|ẽ|ẹ|ề|ế|ể|ễ|ệ|ì|í|ỉ|ĩ|ị|ò|ó|ỏ|õ|ọ|ồ|ố|ổ|ỗ|ộ|ờ|ớ|ở|ỡ|ợ|ù|ú|ủ|ũ|ụ|ừ|ứ|ử|ữ|ự|ỳ|ý|ỷ|ỹ|ỵ|À|Á|Ả|Ã|Ạ|Ầ|Ấ|Ẩ|Ẫ|Ậ|Ằ|Ắ|Ẳ|Ẵ|Ặ|È|É|Ẻ|Ẽ|Ẹ|Ề|Ế|Ể|Ễ|Ệ|Ì|Í|Ỉ|Ĩ|Ị|Ò|Ó|Ỏ|Õ|Ọ|Ồ|Ố|Ổ|Ỗ|Ộ|Ờ|Ớ|Ở|Ỡ|Ợ|Ù|Ú|Ủ|Ũ|Ụ|Ừ|Ứ|Ử|Ữ|Ự|Ỳ|Ý|Ỷ|Ỹ|Ỵ\".split(\n",
    "        '|')\n",
    "    for i in range(len(char1252)):\n",
    "        dic[char1252[i]] = charutf8[i]\n",
    "    return dic\n",
    "dicchar = loaddicchar()\n",
    "\n",
    "# Hàm chuyển Unicode dựng sẵn về Unicde tổ hợp (phổ biến hơn)\n",
    "def convert_unicode(txt):\n",
    "    return re.sub(\n",
    "        r'à|á|ả|ã|ạ|ầ|ấ|ẩ|ẫ|ậ|ằ|ắ|ẳ|ẵ|ặ|è|é|ẻ|ẽ|ẹ|ề|ế|ể|ễ|ệ|ì|í|ỉ|ĩ|ị|ò|ó|ỏ|õ|ọ|ồ|ố|ổ|ỗ|ộ|ờ|ớ|ở|ỡ|ợ|ù|ú|ủ|ũ|ụ|ừ|ứ|ử|ữ|ự|ỳ|ý|ỷ|ỹ|ỵ|À|Á|Ả|Ã|Ạ|Ầ|Ấ|Ẩ|Ẫ|Ậ|Ằ|Ắ|Ẳ|Ẵ|Ặ|È|É|Ẻ|Ẽ|Ẹ|Ề|Ế|Ể|Ễ|Ệ|Ì|Í|Ỉ|Ĩ|Ị|Ò|Ó|Ỏ|Õ|Ọ|Ồ|Ố|Ổ|Ỗ|Ộ|Ờ|Ớ|Ở|Ỡ|Ợ|Ù|Ú|Ủ|Ũ|Ụ|Ừ|Ứ|Ử|Ữ|Ự|Ỳ|Ý|Ỷ|Ỹ|Ỵ',\n",
    "        lambda x: dicchar[x.group()], txt)\n",
    "\n",
    "bang_nguyen_am = [['a', 'à', 'á', 'ả', 'ã', 'ạ', 'a'],\n",
    "                  ['ă', 'ằ', 'ắ', 'ẳ', 'ẵ', 'ặ', 'aw'],\n",
    "                  ['â', 'ầ', 'ấ', 'ẩ', 'ẫ', 'ậ', 'aa'],\n",
    "                  ['e', 'è', 'é', 'ẻ', 'ẽ', 'ẹ', 'e'],\n",
    "                  ['ê', 'ề', 'ế', 'ể', 'ễ', 'ệ', 'ee'],\n",
    "                  ['i', 'ì', 'í', 'ỉ', 'ĩ', 'ị', 'i'],\n",
    "                  ['o', 'ò', 'ó', 'ỏ', 'õ', 'ọ', 'o'],\n",
    "                  ['ô', 'ồ', 'ố', 'ổ', 'ỗ', 'ộ', 'oo'],\n",
    "                  ['ơ', 'ờ', 'ớ', 'ở', 'ỡ', 'ợ', 'ow'],\n",
    "                  ['u', 'ù', 'ú', 'ủ', 'ũ', 'ụ', 'u'],\n",
    "                  ['ư', 'ừ', 'ứ', 'ử', 'ữ', 'ự', 'uw'],\n",
    "                  ['y', 'ỳ', 'ý', 'ỷ', 'ỹ', 'ỵ', 'y']]\n",
    "\n",
    "\n",
    "nguyen_am_to_ids = {}\n",
    "\n",
    "for i in range(len(bang_nguyen_am)):\n",
    "    for j in range(len(bang_nguyen_am[i]) - 1):\n",
    "        nguyen_am_to_ids[bang_nguyen_am[i][j]] = (i, j)\n",
    "\n",
    "def chuan_hoa_dau_tu_tieng_viet(word):\n",
    "    if not is_valid_vietnam_word(word):\n",
    "        return word\n",
    "\n",
    "    chars = list(word)\n",
    "    dau_cau = 0\n",
    "    nguyen_am_index = []\n",
    "    qu_or_gi = False\n",
    "    for index, char in enumerate(chars):\n",
    "        \n",
    "        x, y = nguyen_am_to_ids.get(char, (-1, -1))\n",
    "        if x == -1:\n",
    "            continue\n",
    "        elif x == 9:  # check qu\n",
    "            if index != 0 and chars[index - 1] == 'q':\n",
    "                chars[index] = 'u'\n",
    "                qu_or_gi = True\n",
    "        elif x == 5:  # check gi\n",
    "            if index != 0 and chars[index - 1] == 'g':\n",
    "                chars[index] = 'i'\n",
    "                qu_or_gi = True\n",
    "        if y != 0:\n",
    "            dau_cau = y\n",
    "            chars[index] = bang_nguyen_am[x][0]\n",
    "        if not qu_or_gi or index != 1:\n",
    "            nguyen_am_index.append(index)\n",
    "    if len(nguyen_am_index) < 2:\n",
    "        if qu_or_gi:\n",
    "            if len(chars) == 2:\n",
    "                x, y = nguyen_am_to_ids.get(chars[1])\n",
    "                chars[1] = bang_nguyen_am[x][dau_cau]\n",
    "            else:\n",
    "                x, y = nguyen_am_to_ids.get(chars[2], (-1, -1))\n",
    "                if x != -1:\n",
    "                    chars[2] = bang_nguyen_am[x][dau_cau]\n",
    "                else:\n",
    "                    chars[1] = bang_nguyen_am[5][dau_cau] if chars[1] == 'i' else bang_nguyen_am[9][dau_cau]\n",
    "            return ''.join(chars)\n",
    "        return word\n",
    "\n",
    "    for index in nguyen_am_index:\n",
    "        x, y = nguyen_am_to_ids[chars[index]]\n",
    "        if x == 4 or x == 8:  # ê, ơ\n",
    "            chars[index] = bang_nguyen_am[x][dau_cau]\n",
    "            # for index2 in nguyen_am_index:\n",
    "            #     if index2 != index:\n",
    "            #         x, y = nguyen_am_to_ids[chars[index]]\n",
    "            #         chars[index2] = bang_nguyen_am[x][0]\n",
    "            return ''.join(chars)\n",
    "\n",
    "    if len(nguyen_am_index) == 2:\n",
    "        if nguyen_am_index[-1] == len(chars) - 1:\n",
    "            x, y = nguyen_am_to_ids[chars[nguyen_am_index[0]]]\n",
    "            chars[nguyen_am_index[0]] = bang_nguyen_am[x][dau_cau]\n",
    "            # x, y = nguyen_am_to_ids[chars[nguyen_am_index[1]]]\n",
    "            # chars[nguyen_am_index[1]] = bang_nguyen_am[x][0]\n",
    "        else:\n",
    "            # x, y = nguyen_am_to_ids[chars[nguyen_am_index[0]]]\n",
    "            # chars[nguyen_am_index[0]] = bang_nguyen_am[x][0]\n",
    "            x, y = nguyen_am_to_ids[chars[nguyen_am_index[1]]]\n",
    "            chars[nguyen_am_index[1]] = bang_nguyen_am[x][dau_cau]\n",
    "    else:\n",
    "        # x, y = nguyen_am_to_ids[chars[nguyen_am_index[0]]]\n",
    "        # chars[nguyen_am_index[0]] = bang_nguyen_am[x][0]\n",
    "        x, y = nguyen_am_to_ids[chars[nguyen_am_index[1]]]\n",
    "        chars[nguyen_am_index[1]] = bang_nguyen_am[x][dau_cau]\n",
    "        # x, y = nguyen_am_to_ids[chars[nguyen_am_index[2]]]\n",
    "        # chars[nguyen_am_index[2]] = bang_nguyen_am[x][0]\n",
    "    return ''.join(chars)\n",
    "\n",
    "\n",
    "def is_valid_vietnam_word(word):\n",
    "    chars = list(word)\n",
    "    nguyen_am_index = -1\n",
    "    for index, char in enumerate(chars):\n",
    "        x, y = nguyen_am_to_ids.get(char, (-1, -1))\n",
    "        if x != -1:\n",
    "            if nguyen_am_index == -1:\n",
    "                nguyen_am_index = index\n",
    "            else:\n",
    "                if index - nguyen_am_index != 1:\n",
    "                    return False\n",
    "                nguyen_am_index = index\n",
    "    return True\n",
    "\n",
    "\n",
    "def lowercase_remove_noise_character(sentence):\n",
    "    \"\"\"\n",
    "        Chuyển câu tiếng việt về chuẩn gõ dấu kiểu cũ.\n",
    "        :param sentence:\n",
    "        :return:\n",
    "        \"\"\"\n",
    "    sentence = sentence.lower()\n",
    "    words = sentence.split()\n",
    "    for index, word in enumerate(words):\n",
    "        cw = re.sub(r'(^\\p{P}*)([p{L}.]*\\p{L}+)(\\p{P}*$)', r'\\1/\\2/\\3', word).split('/')\n",
    "        words[index] = ''.join(cw)\n",
    "    return ' '.join(words)\n",
    "\n",
    "def remove_html(txt):\n",
    "    return re.sub(r'<[^>]*>', '', txt)"
   ]
  },
  {
   "cell_type": "code",
   "execution_count": 6,
   "metadata": {
    "execution": {
     "iopub.execute_input": "2021-11-22T10:24:03.319022Z",
     "iopub.status.busy": "2021-11-22T10:24:03.318567Z",
     "iopub.status.idle": "2021-11-22T10:24:03.344871Z",
     "shell.execute_reply": "2021-11-22T10:24:03.343946Z",
     "shell.execute_reply.started": "2021-11-22T10:24:03.318905Z"
    }
   },
   "outputs": [],
   "source": []
  },
  {
   "cell_type": "code",
   "execution_count": null,
   "metadata": {},
   "outputs": [],
   "source": []
  },
  {
   "cell_type": "code",
   "execution_count": 7,
   "metadata": {},
   "outputs": [],
   "source": [
    "# '''\n",
    "# LOG: Get special character excel \n",
    "# '''\n",
    "# log_excel_character = \"\"\n",
    "# for index, row in df.iterrows():\n",
    "#     string_get = row[\"Review\"]\n",
    "#     log_excel_character = string_get[82:89]\n",
    "#     print(log_excel_character)\n",
    "#     break\n",
    "    "
   ]
  },
  {
   "cell_type": "markdown",
   "metadata": {},
   "source": [
    "# **Clean Data**"
   ]
  },
  {
   "cell_type": "code",
   "execution_count": 6,
   "metadata": {},
   "outputs": [],
   "source": [
    "def clean_data(dataframe, special_excel_character):   \n",
    "    l_convert_string = []\n",
    "    for index, row in dataframe.iterrows():\n",
    "        review_str = row[\"Review\"]\n",
    "        if type(review_str) != str:\n",
    "            continue\n",
    "        #remove \"\\n\", duplicate blank space\n",
    "        clean_string = review_str.replace(\"\\n\",\"\")\n",
    "        clean_string = review_str.replace(special_excel_character,\"\")\n",
    "        clean_string = \" \".join(clean_string.split())\n",
    "\n",
    "        #remove tag html\n",
    "        clean_string = remove_html(clean_string)\n",
    "        #remove emoji, special character\n",
    "        clean_string = remove_emojis(clean_string)\n",
    "\n",
    "        # format unicode\n",
    "        unicode_string = covert_unicode(clean_string)\n",
    "        #format vietnamese sign\n",
    "\n",
    "        if len(unicode_string) <= 1:\n",
    "            continue\n",
    "        #lowcase\n",
    "        sign_string = lowercase_remove_noise_character(unicode_string)\n",
    "        #get only vietnamese character\n",
    "        sign_string = re.sub(r'[^\\s\\wáàảãạăắằẳẵặâấầẩẫậéèẻẽẹêếềểễệóòỏõọôốồổỗộơớờởỡợíìỉĩịúùủũụưứừửữựýỳỷỹỵđ_]','',sign_string)\n",
    "        sign_string = \" \".join(sign_string.split())\n",
    "        #tokenize\n",
    "        token_string = word_tokenize(sign_string, format=\"text\")\n",
    "        l_convert_string.append(token_string)\n",
    "    return l_convert_string"
   ]
  },
  {
   "cell_type": "markdown",
   "metadata": {},
   "source": [
    "\n",
    "# **ReClean and Merge dataset**"
   ]
  },
  {
   "cell_type": "code",
   "execution_count": 7,
   "metadata": {},
   "outputs": [],
   "source": [
    "path_dataset = \"/home/haiduong/Documents/DataScience-SentimentAnalysis/Data/data20k-25k.xlsx\"\n",
    "df = pd.read_excel(path_dataset, sheet_name = 'Sheet1')"
   ]
  },
  {
   "cell_type": "code",
   "execution_count": 8,
   "metadata": {},
   "outputs": [],
   "source": [
    "path_dataset2 = \"/home/haiduong/Documents/DataScience-SentimentAnalysis/Data/Data_0_5k_sentiment.xlsx\"\n",
    "df2 = pd.read_excel(path_dataset2, sheet_name = 'Dataset')"
   ]
  },
  {
   "cell_type": "code",
   "execution_count": 9,
   "metadata": {},
   "outputs": [],
   "source": [
    "l_review = []\n",
    "l_label = []\n",
    "\n",
    "for index, row in df.iterrows():\n",
    "    review = row[\"Review\"]\n",
    "    label = row[\"Label\"]\n",
    "    l_review.append(review)\n",
    "    l_label.append(label)\n",
    "    \n",
    "for index, row in df2.iterrows():\n",
    "    review = row[\"Review\"]\n",
    "    label = row[\"Label\"]\n",
    "    l_review.append(review)\n",
    "    l_label.append(label)\n",
    "    if index >= 5000:\n",
    "        break\n",
    "    "
   ]
  },
  {
   "cell_type": "code",
   "execution_count": 10,
   "metadata": {},
   "outputs": [
    {
     "name": "stdout",
     "output_type": "stream",
     "text": [
      "10026\n"
     ]
    }
   ],
   "source": [
    "print(len(l_review))"
   ]
  },
  {
   "cell_type": "code",
   "execution_count": 11,
   "metadata": {
    "execution": {
     "iopub.execute_input": "2021-11-23T03:47:44.220256Z",
     "iopub.status.busy": "2021-11-23T03:47:44.219961Z",
     "iopub.status.idle": "2021-11-23T03:47:44.292114Z",
     "shell.execute_reply": "2021-11-23T03:47:44.290847Z",
     "shell.execute_reply.started": "2021-11-23T03:47:44.220226Z"
    }
   },
   "outputs": [],
   "source": [
    "\n",
    "l_convert_review = []\n",
    "l_convert_label = []\n",
    "# nagative 0\n",
    "# positive 1\n",
    "# None 2\n",
    "\n",
    "l_len_word = []\n",
    "for index, review in enumerate(l_review):\n",
    "    review_str = review\n",
    "    label = l_label[index]\n",
    "    if type(review_str) != str:\n",
    "        print(type(review_str))\n",
    "        continue\n",
    "    #remove \"\\n\", duplicate blank space\n",
    "    clean_string = review_str.replace(\"\\n\",\"\")\n",
    "    clean_string = \" \".join(clean_string.split())\n",
    "    \n",
    "    #remove tag html\n",
    "    clean_string = remove_html(clean_string)\n",
    "    #remove emoji, special character\n",
    "    clean_string = remove_emojis(clean_string)\n",
    "    \n",
    "    # format unicode\n",
    "    unicode_string = covert_unicode(clean_string)\n",
    "    #format vietnamese sign\n",
    "    \n",
    "    if len(unicode_string) <= 1:\n",
    "        continue\n",
    "    sign_string = lowercase_remove_noise_character(unicode_string)\n",
    "    sign_string = re.sub(r'[^\\s\\wáàảãạăắằẳẵặâấầẩẫậéèẻẽẹêếềểễệóòỏõọôốồổỗộơớờởỡợíìỉĩịúùủũụưứừửữựýỳỷỹỵđ_]','',sign_string)\n",
    "    sign_string = \" \".join(sign_string.split())\n",
    "    token_string = word_tokenize(sign_string, format=\"text\")\n",
    "    log_token = word_tokenize(sign_string)\n",
    "    if len(token_string) <= 1:\n",
    "        continue\n",
    "    \n",
    "    if label == \"negative\":\n",
    "        label = 0\n",
    "    elif label == \"positive\":\n",
    "        label = 1\n",
    "    else:\n",
    "        label = 2\n",
    "    l_len_word.append(len(log_token))\n",
    "    l_convert_review.append(token_string)\n",
    "    l_convert_label.append(label)"
   ]
  },
  {
   "cell_type": "code",
   "execution_count": 12,
   "metadata": {},
   "outputs": [
    {
     "name": "stdout",
     "output_type": "stream",
     "text": [
      "10023\n"
     ]
    }
   ],
   "source": [
    "print(len(l_convert_review))"
   ]
  },
  {
   "cell_type": "code",
   "execution_count": 114,
   "metadata": {},
   "outputs": [],
   "source": [
    "# print(l_convert_review[:100])"
   ]
  },
  {
   "cell_type": "code",
   "execution_count": 115,
   "metadata": {},
   "outputs": [],
   "source": [
    "save_df = pd.DataFrame(columns=[\"Review\", \"Label\"])\n",
    "save_df[\"Review\"] = l_convert_review\n",
    "save_df[\"Label\"] = l_convert_label\n",
    "save_df.to_excel(\"Merge_0-5k_20-25k.xlsx\",sheet_name='Dataset',index = True)"
   ]
  },
  {
   "cell_type": "markdown",
   "metadata": {},
   "source": [
    "# **EDA DATA**"
   ]
  },
  {
   "cell_type": "code",
   "execution_count": 13,
   "metadata": {},
   "outputs": [],
   "source": [
    "#Log freq word in all labels\n",
    "dictionary_all = {}\n",
    "for index, sentence in enumerate(l_convert_review):\n",
    "#     if l_label[index] == 2:\n",
    "    tmp = sentence.split(\" \")\n",
    "    for word in tmp:\n",
    "        if word in dictionary_all:\n",
    "            dictionary_all[word] += 1\n",
    "        else:\n",
    "            dictionary_all[word] = 1\n",
    "sorted_freq_all = {k: v for k, v in sorted(dictionary_all.items(), key=lambda item: item[1],reverse=True)}\n"
   ]
  },
  {
   "cell_type": "code",
   "execution_count": 14,
   "metadata": {},
   "outputs": [],
   "source": [
    "#Log in negative\n",
    "dictionary_negative = {}\n",
    "for index, sentence in enumerate(l_convert_review):\n",
    "    if l_convert_label[index] == 0:\n",
    "        tmp = sentence.split(\" \")\n",
    "        for word in tmp:\n",
    "            if word in dictionary_negative:\n",
    "                dictionary_negative[word] += 1\n",
    "            else:\n",
    "                dictionary_negative[word] = 1\n",
    "sorted_freq_negative = {k: v for k, v in sorted(dictionary_negative.items(), key=lambda item: item[1],reverse=True)}"
   ]
  },
  {
   "cell_type": "code",
   "execution_count": 15,
   "metadata": {},
   "outputs": [],
   "source": [
    "#Log in positive\n",
    "dictionary_positive = {}\n",
    "for index, sentence in enumerate(l_convert_review):\n",
    "    if l_convert_label[index] == 1:\n",
    "        tmp = sentence.split(\" \")\n",
    "        for word in tmp:\n",
    "            if word in dictionary_positive:\n",
    "                dictionary_positive[word] += 1\n",
    "            else:\n",
    "                dictionary_positive[word] = 1\n",
    "sorted_freq_positive = {k: v for k, v in sorted(dictionary_positive.items(), key=lambda item: item[1],reverse=True)}\n"
   ]
  },
  {
   "cell_type": "code",
   "execution_count": 16,
   "metadata": {},
   "outputs": [],
   "source": [
    "#Log in None\n",
    "dictionary_none = {}\n",
    "for index, sentence in enumerate(l_convert_review):\n",
    "    if l_convert_label[index] == 2:\n",
    "        tmp = sentence.split(\" \")\n",
    "        for word in tmp:\n",
    "            if word in dictionary_none:\n",
    "                dictionary_none[word] += 1\n",
    "            else:\n",
    "                dictionary_none[word] = 1\n",
    "sorted_freq_none = {k: v for k, v in sorted(dictionary_none.items(), key=lambda item: item[1],reverse=True)}\n"
   ]
  },
  {
   "cell_type": "code",
   "execution_count": 17,
   "metadata": {},
   "outputs": [],
   "source": [
    "#Log top 30\n",
    "log_freq = []\n",
    "log_ratio = []\n",
    "log_freq_negative = []\n",
    "log_freq_positive = []\n",
    "log_freq_none = []\n",
    "count = 0\n",
    "for key in sorted_freq_all.keys():\n",
    "    count += 1\n",
    "    if count >= 30:\n",
    "        break\n",
    "    freq_total = sorted_freq_all[key]\n",
    "    freq_negative = sorted_freq_negative[key]\n",
    "    freq_positive = sorted_freq_positive[key]\n",
    "    if key not in sorted_freq_none:\n",
    "        freq_non = 0\n",
    "    else:\n",
    "        freq_non = sorted_freq_none[key]\n",
    "    ratio = freq_negative / freq_positive\n",
    "    log_freq_negative.append(freq_negative)\n",
    "    log_freq_positive.append(freq_positive)\n",
    "    log_freq_none.append(freq_non)\n",
    "    log_freq.append(key)\n",
    "    "
   ]
  },
  {
   "cell_type": "markdown",
   "metadata": {},
   "source": [
    "# **Plot bar char**"
   ]
  },
  {
   "cell_type": "code",
   "execution_count": 18,
   "metadata": {},
   "outputs": [
    {
     "data": {
      "image/png": "[encoded data removed]",
      "text/plain": [
       "<Figure size 2880x640 with 1 Axes>"
      ]
     },
     "metadata": {
      "needs_background": "light"
     },
     "output_type": "display_data"
    }
   ],
   "source": [
    "import numpy as np\n",
    "import matplotlib.pyplot as plt\n",
    "# plt.figure(figsize=(8, 24), dpi=800)\n",
    "# plt.rcParams.update({'font.size': 18})\n",
    "ind = np.arange(len(log_freq_negative))\n",
    "width = 0.35\n",
    "\n",
    "fig = plt.subplots(figsize =(36, 8), dpi=80)\n",
    "\n",
    "\n",
    "p1 = plt.bar(ind, log_freq_negative, width)\n",
    "p2 = plt.bar(ind, log_freq_positive, width, bottom = log_freq_negative)\n",
    "\n",
    "plt.ylabel('Count')\n",
    "\n",
    "plt.title('Bar char the number of occurrences word ')\n",
    "plt.xticks(ind, log_freq)\n",
    "# plt.yticks(np.arange(0, 81, 10))\n",
    "plt.legend((p1[0], p2[0]), ('Negative', 'Positive'))\n",
    "\n",
    "plt.show()\n"
   ]
  },
  {
   "cell_type": "code",
   "execution_count": 19,
   "metadata": {},
   "outputs": [
    {
     "data": {
      "image/png": "[encoded data removed]",
      "text/plain": [
       "<Figure size 2880x640 with 1 Axes>"
      ]
     },
     "metadata": {
      "needs_background": "light"
     },
     "output_type": "display_data"
    }
   ],
   "source": [
    "import numpy as np\n",
    "import matplotlib.pyplot as plt\n",
    "# plt.figure(figsize=(8, 24), dpi=800)\n",
    "# plt.rcParams.update({'font.size': 18})\n",
    "ind = np.arange(len(log_freq_negative))\n",
    "width = 0.35\n",
    "\n",
    "fig = plt.subplots(figsize =(36, 8), dpi=80)\n",
    "\n",
    "\n",
    "p1 = plt.bar(ind, log_freq_negative, width)\n",
    "\n",
    "plt.ylabel('Count')\n",
    "\n",
    "plt.title('Bar char the number of occurrences word in Negative')\n",
    "plt.xticks(ind, log_freq)\n",
    "\n",
    "\n",
    "plt.show()\n"
   ]
  },
  {
   "cell_type": "code",
   "execution_count": 20,
   "metadata": {},
   "outputs": [
    {
     "data": {
      "image/png": "[encoded data removed]",
      "text/plain": [
       "<Figure size 2880x640 with 1 Axes>"
      ]
     },
     "metadata": {
      "needs_background": "light"
     },
     "output_type": "display_data"
    }
   ],
   "source": [
    "import numpy as np\n",
    "import matplotlib.pyplot as plt\n",
    "# plt.figure(figsize=(8, 24), dpi=800)\n",
    "# plt.rcParams.update({'font.size': 18})\n",
    "ind = np.arange(len(log_freq_positive))\n",
    "width = 0.35\n",
    "\n",
    "fig = plt.subplots(figsize =(36, 8), dpi=80)\n",
    "\n",
    "\n",
    "p1 = plt.bar(ind, log_freq_positive, width)\n",
    "\n",
    "plt.ylabel('Count')\n",
    "\n",
    "plt.title('Bar char the number of occurrences word in Positive')\n",
    "plt.xticks(ind, log_freq)\n",
    "\n",
    "plt.show()\n"
   ]
  },
  {
   "cell_type": "code",
   "execution_count": 21,
   "metadata": {},
   "outputs": [
    {
     "data": {
      "image/png": "[encoded data removed]",
      "text/plain": [
       "<Figure size 2880x640 with 1 Axes>"
      ]
     },
     "metadata": {
      "needs_background": "light"
     },
     "output_type": "display_data"
    }
   ],
   "source": [
    "import numpy as np\n",
    "import matplotlib.pyplot as plt\n",
    "ind = np.arange(len(log_freq_none))\n",
    "width = 0.35\n",
    "\n",
    "fig = plt.subplots(figsize =(36, 8), dpi=80)\n",
    "\n",
    "\n",
    "p1 = plt.bar(ind, log_freq_none, width)\n",
    "\n",
    "plt.ylabel('Count')\n",
    "\n",
    "plt.title('Bar char the number of occurrences word in None')\n",
    "plt.xticks(ind, log_freq)\n",
    "\n",
    "plt.show()\n"
   ]
  },
  {
   "cell_type": "markdown",
   "metadata": {},
   "source": [
    "# **PLot Histogram**"
   ]
  },
  {
   "cell_type": "code",
   "execution_count": 22,
   "metadata": {},
   "outputs": [
    {
     "data": {
      "image/png": "[encoded data removed]",
      "text/plain": [
       "<Figure size 5760x1280 with 1 Axes>"
      ]
     },
     "metadata": {
      "needs_background": "light"
     },
     "output_type": "display_data"
    }
   ],
   "source": [
    "#Histogram plot for len word in a review\n",
    "\n",
    "review_data = np.array(l_len_word)\n",
    "fig = plt.figure(figsize =(36, 8), dpi=160)\n",
    "d = np.diff(np.unique(review_data)).min()\n",
    "left_of_first_bin = review_data.min() - float(d)/2\n",
    "right_of_last_bin = review_data.max() + float(d)/2\n",
    "plt.title('Histogram plot for len word in a review')\n",
    "plt.hist(review_data, np.arange(left_of_first_bin, right_of_last_bin + d, d))\n",
    "plt.show()"
   ]
  },
  {
   "cell_type": "markdown",
   "metadata": {},
   "source": [
    "# **Plot Box plot**"
   ]
  },
  {
   "cell_type": "code",
   "execution_count": 23,
   "metadata": {},
   "outputs": [
    {
     "data": {
      "image/png": "[encoded data removed]",
      "text/plain": [
       "<Figure size 720x504 with 1 Axes>"
      ]
     },
     "metadata": {
      "needs_background": "light"
     },
     "output_type": "display_data"
    }
   ],
   "source": [
    "#Plot Box plot for len word in a review\n",
    "data = np.array(l_len_word)\n",
    " \n",
    "fig = plt.figure(figsize =(10, 7))\n",
    " \n",
    "# Creating plot\n",
    "plt.boxplot(data)\n",
    " \n",
    "# show plot\n",
    "plt.show()"
   ]
  },
  {
   "cell_type": "markdown",
   "metadata": {},
   "source": [
    "# **Preprocessing**\n",
    "Remove StopWord and set max length sentence"
   ]
  },
  {
   "cell_type": "markdown",
   "metadata": {},
   "source": [
    "Set top 30 stop word\n",
    "Set max length = 200"
   ]
  },
  {
   "cell_type": "code",
   "execution_count": 24,
   "metadata": {
    "execution": {
     "iopub.execute_input": "2021-11-22T10:29:58.427458Z",
     "iopub.status.busy": "2021-11-22T10:29:58.427134Z",
     "iopub.status.idle": "2021-11-22T10:30:03.690139Z",
     "shell.execute_reply": "2021-11-22T10:30:03.689344Z",
     "shell.execute_reply.started": "2021-11-22T10:29:58.427425Z"
    }
   },
   "outputs": [],
   "source": [
    "#Reload data \n",
    "path_dataset = \"/home/haiduong/Documents/DataScience-SentimentAnalysis/Clean Data/Merge_0-5k_20-25k.xlsx\"\n",
    "dataframe = pd.read_excel(path_dataset, sheet_name = 'Dataset')\n"
   ]
  },
  {
   "cell_type": "code",
   "execution_count": 27,
   "metadata": {},
   "outputs": [],
   "source": [
    "# log_freq\n",
    "MAX_LENGTH = 200"
   ]
  },
  {
   "cell_type": "code",
   "execution_count": 28,
   "metadata": {},
   "outputs": [],
   "source": [
    "def remove_stop_word(sentence):\n",
    "    for word in log_freq:\n",
    "        sentence = sentence.replace(word,\"\")\n",
    "    return sentence\n",
    "def set_length_sentence(sentence):\n",
    "    tmp = sentence.split(\" \")\n",
    "    if len(tmp) > MAX_LENGTH:\n",
    "        tmp = tmp[:MAX_LENGTH]\n",
    "    sentence = \" \".join(tmp)\n",
    "    return sentence"
   ]
  },
  {
   "cell_type": "code",
   "execution_count": 122,
   "metadata": {},
   "outputs": [
    {
     "data": {
      "text/plain": [
       "'Chao 50000 anh em toi'"
      ]
     },
     "execution_count": 122,
     "metadata": {},
     "output_type": "execute_result"
    }
   ],
   "source": []
  },
  {
   "cell_type": "code",
   "execution_count": 33,
   "metadata": {},
   "outputs": [
    {
     "name": "stdout",
     "output_type": "stream",
     "text": [
      "màu xanh khá lạ_mắt máy chính hãng mượt_mà camera không ấn_tượng lắm\n",
      "u xanh khá lạ_mắt máy chính hãng mượt_ camera  ấn_tượng lắm\n"
     ]
    }
   ],
   "source": [
    "l_convert_review = []\n",
    "l_label = []\n",
    "for index, row in dataframe.iterrows():\n",
    "    review = str(row[\"Review\"])\n",
    "    print(review)\n",
    "    label = int(row[\"Label\"])\n",
    "    un_stopword_review = remove_stop_word(review)\n",
    "    review = set_length_sentence(un_stopword_review)\n",
    "    print(review)\n",
    "    l_convert_review.append(review)\n",
    "    l_label.append(label)\n",
    "    break\n"
   ]
  },
  {
   "cell_type": "code",
   "execution_count": null,
   "metadata": {},
   "outputs": [],
   "source": []
  }
 ],
 "metadata": {
  "kernelspec": {
   "display_name": "myenv",
   "language": "python",
   "name": "myenv"
  },
  "language_info": {
   "codemirror_mode": {
    "name": "ipython",
    "version": 3
   },
   "file_extension": ".py",
   "mimetype": "text/x-python",
   "name": "python",
   "nbconvert_exporter": "python",
   "pygments_lexer": "ipython3",
   "version": "3.8.12"
  }
 },
 "nbformat": 4,
 "nbformat_minor": 4
}
